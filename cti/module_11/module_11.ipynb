{
 "metadata": {
  "language_info": {
   "codemirror_mode": {
    "name": "ipython",
    "version": 3
   },
   "file_extension": ".py",
   "mimetype": "text/x-python",
   "name": "python",
   "nbconvert_exporter": "python",
   "pygments_lexer": "ipython3",
   "version": "3.7.6-final"
  },
  "orig_nbformat": 2,
  "kernelspec": {
   "name": "python37664bit1965629d64904bc8bfed23b2816a8fbf",
   "display_name": "Python 3.7.6 64-bit"
  }
 },
 "nbformat": 4,
 "nbformat_minor": 2,
 "cells": [
  {
   "cell_type": "code",
   "execution_count": 1,
   "metadata": {},
   "outputs": [
    {
     "output_type": "execute_result",
     "data": {
      "text/plain": "['5', '5']"
     },
     "metadata": {},
     "execution_count": 1
    }
   ],
   "source": [
    "import re\n",
    "coordinate = \"5,5\"\n",
    "re.split(r',', coordinate)"
   ]
  },
  {
   "cell_type": "code",
   "execution_count": 2,
   "metadata": {},
   "outputs": [
    {
     "output_type": "execute_result",
     "data": {
      "text/plain": "['5', '5']"
     },
     "metadata": {},
     "execution_count": 2
    }
   ],
   "source": [
    "coordinate.split(',')"
   ]
  },
  {
   "cell_type": "code",
   "execution_count": 9,
   "metadata": {},
   "outputs": [
    {
     "output_type": "execute_result",
     "data": {
      "text/plain": "'5'"
     },
     "metadata": {},
     "execution_count": 9
    }
   ],
   "source": [
    "re.search(r'(\\w+),', coordinate).group(1)"
   ]
  },
  {
   "cell_type": "code",
   "execution_count": 10,
   "metadata": {
    "tags": []
   },
   "outputs": [
    {
     "output_type": "stream",
     "name": "stdout",
     "text": "[5, 5]\n"
    }
   ],
   "source": [
    "coordinate_list = list(map(int, coordinate.split(',')))\n",
    "print(coordinate_list)"
   ]
  },
  {
   "cell_type": "code",
   "execution_count": 11,
   "metadata": {
    "tags": []
   },
   "outputs": [
    {
     "output_type": "stream",
     "name": "stdout",
     "text": "[5, 5]\n"
    }
   ],
   "source": [
    "coord_list2 = [int(q) for q in coordinate.split(',')]\n",
    "print(coord_list2)"
   ]
  },
  {
   "cell_type": "code",
   "execution_count": 12,
   "metadata": {
    "tags": []
   },
   "outputs": [
    {
     "output_type": "stream",
     "name": "stdout",
     "text": "['subtract', 'six', 'from', 'four']\n"
    }
   ],
   "source": [
    "import re\n",
    "\n",
    "addition = \"add two and seven\"\n",
    "subtraction = \"subtract, six from four\"\n",
    "\n",
    "print(re.split(r'\\W*\\s+', subtraction))\n"
   ]
  },
  {
   "cell_type": "code",
   "execution_count": 18,
   "metadata": {},
   "outputs": [
    {
     "output_type": "execute_result",
     "data": {
      "text/plain": "False"
     },
     "metadata": {},
     "execution_count": 18
    }
   ],
   "source": [
    "def add(a,b):\n",
    "  return a + b\n",
    "\n",
    "\n",
    "def subtract(a,b):\n",
    "  return a - b\n",
    "\n",
    "\n",
    "def multiply(a,b):\n",
    "  return a * b\n",
    "\n",
    "\n",
    "def divide(a,b):\n",
    "  return a / b\n",
    "\n",
    "\n",
    "translator = {\n",
    "  \"add\": add,\n",
    "  \"plus\": add,\n",
    "  \"subtract\": subtract,\n",
    "  \"minus\": subtract,\n",
    "  \"take away\": subtract,\n",
    "  \"multiply\": multiply,\n",
    "  \"times\": multiply,\n",
    "  \"divide\": divide,\n",
    "  \"division\": divide,\n",
    "  \"divided\": divide,\n",
    "  \"over\": divide\n",
    "}\n",
    "\n",
    "\n",
    "\"under\" in translator"
   ]
  },
  {
   "cell_type": "code",
   "execution_count": 26,
   "metadata": {},
   "outputs": [],
   "source": [
    "number_in_words = '''0\tzero'''"
   ]
  },
  {
   "cell_type": "code",
   "execution_count": 39,
   "metadata": {
    "tags": []
   },
   "outputs": [
    {
     "output_type": "stream",
     "name": "stdout",
     "text": "['zero', 'one', 'two', 'three', 'four', 'five', 'six', 'seven', 'eight', 'nine', 'ten', 'eleven', 'twelve', 'thirteen', 'fourteen', 'fifteen', 'sixteen', 'seventeen', 'eighteen', 'nineteen', 'twenty', 'twenty-one', 'twenty-two', 'twenty-three', 'twenty-four', 'twenty-five', 'twenty-six', 'twenty-seven', 'twenty-eight', 'twenty-nine', 'thirty', 'thirty-one', 'thirty-two', 'thirty-three', 'thirty-four', 'thirty-five', 'thirty-six', 'thirty-seven', 'thirty-eight', 'thirty-nine', 'forty', 'forty-one', 'forty-two', 'forty-three', 'forty-four', 'forty-five', 'forty-six', 'forty-seven', 'forty-eight', 'forty-nine', 'fifty', 'fifty-one', 'fifty-two', 'fifty-three', 'fifty-four', 'fifty-five', 'fifty-six', 'fifty-seven', 'fifty-eight', 'fifty-nine', 'sixty', 'sixty-one', 'sixty-two', 'sixty-three', 'sixty-four', 'sixty-five', 'sixty-six', 'sixty-seven', 'sixty-eight', 'sixty-nine', 'seventy', 'seventy-one', 'seventy-two', 'seventy-three', 'seventy-four', 'seventy-five', 'seventy-six', 'seventy-seven', 'seventy-eight', 'seventy-nine', 'eighty', 'eighty-one', 'eighty-two', 'eighty-three', 'eighty-four', 'eighty-five', 'eighty-six', 'eighty-seven', 'eighty-eight', 'eighty-nine', 'ninety', 'ninety-one', 'ninety-two', 'ninety-three', 'ninety-four', 'ninety-five', 'ninety-six', 'ninety-seven', 'ninety-eight', 'ninety-nine', 'one hundred']\n"
    }
   ],
   "source": [
    "Number_In_Words = '''0\tzero\n",
    "1\tone\n",
    "2\ttwo\n",
    "3\tthree\n",
    "4\tfour\n",
    "5\tfive\n",
    "6\tsix\n",
    "7\tseven\n",
    "8\teight\n",
    "9\tnine\n",
    "10\tten\n",
    "11\televen\n",
    "12\ttwelve\n",
    "13\tthirteen\n",
    "14\tfourteen\n",
    "15\tfifteen\n",
    "16\tsixteen\n",
    "17\tseventeen\n",
    "18\teighteen\n",
    "19\tnineteen\n",
    "20\ttwenty\n",
    "21\ttwenty-one\n",
    "22\ttwenty-two\n",
    "23\ttwenty-three\n",
    "24\ttwenty-four\n",
    "25\ttwenty-five\n",
    "26\ttwenty-six\n",
    "27\ttwenty-seven\n",
    "28\ttwenty-eight\n",
    "29\ttwenty-nine\n",
    "30\tthirty\n",
    "31\tthirty-one\n",
    "32\tthirty-two\n",
    "33\tthirty-three\n",
    "34\tthirty-four\n",
    "35\tthirty-five\n",
    "36\tthirty-six\n",
    "37\tthirty-seven\n",
    "38\tthirty-eight\n",
    "39\tthirty-nine\n",
    "40\tforty\n",
    "41\tforty-one\n",
    "42\tforty-two\n",
    "43\tforty-three\n",
    "44\tforty-four\n",
    "45\tforty-five\n",
    "46\tforty-six\n",
    "47\tforty-seven\n",
    "48\tforty-eight\n",
    "49\tforty-nine\n",
    "50\tfifty\n",
    "51\tfifty-one\n",
    "52\tfifty-two\n",
    "53\tfifty-three\n",
    "54\tfifty-four\n",
    "55\tfifty-five\n",
    "56\tfifty-six\n",
    "57\tfifty-seven\n",
    "58\tfifty-eight\n",
    "59\tfifty-nine\n",
    "60\tsixty\n",
    "61\tsixty-one\n",
    "62\tsixty-two\n",
    "63\tsixty-three\n",
    "64\tsixty-four\n",
    "65\tsixty-five\n",
    "66\tsixty-six\n",
    "67\tsixty-seven\n",
    "68\tsixty-eight\n",
    "69\tsixty-nine\n",
    "70\tseventy\n",
    "71\tseventy-one\n",
    "72\tseventy-two\n",
    "73\tseventy-three\n",
    "74\tseventy-four\n",
    "75\tseventy-five\n",
    "76\tseventy-six\n",
    "77\tseventy-seven\n",
    "78\tseventy-eight\n",
    "79\tseventy-nine\n",
    "80\teighty\n",
    "81\teighty-one\n",
    "82\teighty-two\n",
    "83\teighty-three\n",
    "84\teighty-four\n",
    "85\teighty-five\n",
    "86\teighty-six\n",
    "87\teighty-seven\n",
    "88\teighty-eight\n",
    "89\teighty-nine\n",
    "90\tninety\n",
    "91\tninety-one\n",
    "92\tninety-two\n",
    "93\tninety-three\n",
    "94\tninety-four\n",
    "95\tninety-five\n",
    "96\tninety-six\n",
    "97\tninety-seven\n",
    "98\tninety-eight\n",
    "99\tninety-nine\n",
    "100\tone hundred\n",
    "'''\n",
    "\n",
    "the_hundreds = re.split(r'\\s*[0-9]+\\s+', Number_In_Words)\n",
    "# num_list = []\n",
    "# for index in range(50):\n",
    "#     num_list.append\n",
    "the_hundreds.pop(0)\n",
    "the_hundreds[100] = 'one hundred'\n",
    "print(the_hundreds)"
   ]
  },
  {
   "cell_type": "code",
   "execution_count": 40,
   "metadata": {
    "tags": []
   },
   "outputs": [
    {
     "output_type": "stream",
     "name": "stdout",
     "text": "[0, 1, 2, 3, 4, 5, 6, 7, 8, 9, 10, 11, 12, 13, 14, 15, 16, 17, 18, 19, 20, 21, 22, 23, 24, 25, 26, 27, 28, 29, 30, 31, 32, 33, 34, 35, 36, 37, 38, 39, 40, 41, 42, 43, 44, 45, 46, 47, 48, 49, 50, 51, 52, 53, 54, 55, 56, 57, 58, 59, 60, 61, 62, 63, 64, 65, 66, 67, 68, 69, 70, 71, 72, 73, 74, 75, 76, 77, 78, 79, 80, 81, 82, 83, 84, 85, 86, 87, 88, 89, 90, 91, 92, 93, 94, 95, 96, 97, 98, 99, 100]\n"
    }
   ],
   "source": [
    "zero_through_hundred = [i for i in range(101)]\n",
    "print(zero_through_hundred)"
   ]
  },
  {
   "cell_type": "code",
   "execution_count": 42,
   "metadata": {
    "tags": []
   },
   "outputs": [
    {
     "output_type": "stream",
     "name": "stdout",
     "text": "['zero', 'one', 'two', 'three', 'four', 'five', 'six', 'seven', 'eight', 'nine', 'ten', 'eleven', 'twelve', 'thirteen', 'fourteen', 'fifteen', 'sixteen', 'seventeen', 'eighteen', 'nineteen', 'twenty', 'twenty one', 'twenty two', 'twenty three', 'twenty four', 'twenty five', 'twenty six', 'twenty seven', 'twenty eight', 'twenty nine', 'thirty', 'thirty one', 'thirty two', 'thirty three', 'thirty four', 'thirty five', 'thirty six', 'thirty seven', 'thirty eight', 'thirty nine', 'forty', 'forty one', 'forty two', 'forty three', 'forty four', 'forty five', 'forty six', 'forty seven', 'forty eight', 'forty nine', 'fifty', 'fifty one', 'fifty two', 'fifty three', 'fifty four', 'fifty five', 'fifty six', 'fifty seven', 'fifty eight', 'fifty nine', 'sixty', 'sixty one', 'sixty two', 'sixty three', 'sixty four', 'sixty five', 'sixty six', 'sixty seven', 'sixty eight', 'sixty nine', 'seventy', 'seventy one', 'seventy two', 'seventy three', 'seventy four', 'seventy five', 'seventy six', 'seventy seven', 'seventy eight', 'seventy nine', 'eighty', 'eighty one', 'eighty two', 'eighty three', 'eighty four', 'eighty five', 'eighty six', 'eighty seven', 'eighty eight', 'eighty nine', 'ninety', 'ninety one', 'ninety two', 'ninety three', 'ninety four', 'ninety five', 'ninety six', 'ninety seven', 'ninety eight', 'ninety nine', 'one hundred']\n"
    }
   ],
   "source": [
    "dashless = [re.sub('-', ' ', element) for element in the_hundreds]\n",
    "print(dashless)"
   ]
  },
  {
   "cell_type": "code",
   "execution_count": 44,
   "metadata": {
    "tags": []
   },
   "outputs": [
    {
     "output_type": "stream",
     "name": "stdout",
     "text": "['zero', 'one', 'two', 'three', 'four', 'five', 'six', 'seven', 'eight', 'nine', 'ten', 'eleven', 'twelve', 'thirteen', 'fourteen', 'fifteen', 'sixteen', 'seventeen', 'eighteen', 'nineteen', 'twenty', 'twentyone', 'twentytwo', 'twentythree', 'twentyfour', 'twentyfive', 'twentysix', 'twentyseven', 'twentyeight', 'twentynine', 'thirty', 'thirtyone', 'thirtytwo', 'thirtythree', 'thirtyfour', 'thirtyfive', 'thirtysix', 'thirtyseven', 'thirtyeight', 'thirtynine', 'forty', 'fortyone', 'fortytwo', 'fortythree', 'fortyfour', 'fortyfive', 'fortysix', 'fortyseven', 'fortyeight', 'fortynine', 'fifty', 'fiftyone', 'fiftytwo', 'fiftythree', 'fiftyfour', 'fiftyfive', 'fiftysix', 'fiftyseven', 'fiftyeight', 'fiftynine', 'sixty', 'sixtyone', 'sixtytwo', 'sixtythree', 'sixtyfour', 'sixtyfive', 'sixtysix', 'sixtyseven', 'sixtyeight', 'sixtynine', 'seventy', 'seventyone', 'seventytwo', 'seventythree', 'seventyfour', 'seventyfive', 'seventysix', 'seventyseven', 'seventyeight', 'seventynine', 'eighty', 'eightyone', 'eightytwo', 'eightythree', 'eightyfour', 'eightyfive', 'eightysix', 'eightyseven', 'eightyeight', 'eightynine', 'ninety', 'ninetyone', 'ninetytwo', 'ninetythree', 'ninetyfour', 'ninetyfive', 'ninetysix', 'ninetyseven', 'ninetyeight', 'ninetynine', 'onehundred']\n"
    }
   ],
   "source": [
    "merged = [re.sub(' ', '', item) for item in dashless]\n",
    "print(merged)"
   ]
  },
  {
   "cell_type": "code",
   "execution_count": null,
   "metadata": {},
   "outputs": [],
   "source": []
  }
 ]
}