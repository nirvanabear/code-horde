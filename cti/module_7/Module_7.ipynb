{
 "metadata": {
  "language_info": {
   "codemirror_mode": {
    "name": "ipython",
    "version": 3
   },
   "file_extension": ".py",
   "mimetype": "text/x-python",
   "name": "python",
   "nbconvert_exporter": "python",
   "pygments_lexer": "ipython3",
   "version": "3.7.6-final"
  },
  "orig_nbformat": 2,
  "kernelspec": {
   "name": "python37664bit1965629d64904bc8bfed23b2816a8fbf",
   "display_name": "Python 3.7.6 64-bit"
  }
 },
 "nbformat": 4,
 "nbformat_minor": 2,
 "cells": [
  {
   "cell_type": "code",
   "execution_count": 17,
   "metadata": {
    "tags": []
   },
   "outputs": [
    {
     "output_type": "stream",
     "name": "stdout",
     "text": "3\n"
    }
   ],
   "source": [
    "numbers = [1,2]\n",
    "a,b = numbers\n",
    "operator = \"+\"\n",
    "ops = {\"+\": (lambda x,y: x+y), \n",
    "       \"-\": (lambda x,y: x-y)}\n",
    "# ops['+'] (1,2)\n",
    "# ops['+'] [1,2]\n",
    "solution = ops[operator] (a,b)\n",
    "print(solution)"
   ]
  },
  {
   "cell_type": "code",
   "execution_count": 11,
   "metadata": {},
   "outputs": [
    {
     "output_type": "execute_result",
     "data": {
      "text/plain": "'12'"
     },
     "metadata": {},
     "execution_count": 11
    }
   ],
   "source": [
    "\"1\" + \"2\""
   ]
  },
  {
   "cell_type": "code",
   "execution_count": 24,
   "metadata": {},
   "outputs": [
    {
     "output_type": "execute_result",
     "data": {
      "text/plain": "b'\\xd8\\xa7\\xd9\\x84\\xd8\\xae\\xd9\\x88\\xd8\\xa7\\xd8\\xb1\\xd8\\xb2\\xd9\\x85\\xd9\\x8a'"
     },
     "metadata": {},
     "execution_count": 24
    }
   ],
   "source": [
    "u\"الخوارزمي\".encode()"
   ]
  },
  {
   "cell_type": "code",
   "execution_count": 21,
   "metadata": {},
   "outputs": [
    {
     "output_type": "execute_result",
     "data": {
      "text/plain": "b'\\xd8\\xae'"
     },
     "metadata": {},
     "execution_count": 21
    }
   ],
   "source": [
    "\"خ\".encode()"
   ]
  },
  {
   "cell_type": "code",
   "execution_count": 25,
   "metadata": {},
   "outputs": [
    {
     "output_type": "execute_result",
     "data": {
      "text/plain": "b'\\xd8\\xa7\\xd9\\x84\\xd8\\xac\\xd8\\xa8\\xd8\\xb1'"
     },
     "metadata": {},
     "execution_count": 25
    }
   ],
   "source": [
    "u\"الجبر\".encode()"
   ]
  },
  {
   "cell_type": "code",
   "execution_count": 27,
   "metadata": {
    "tags": []
   },
   "outputs": [
    {
     "output_type": "stream",
     "name": "stdout",
     "text": "yay\n"
    }
   ],
   "source": [
    "paren = \"(\"\n",
    "if paren in ['(', '[', '{']:\n",
    "    print(\"yay\")"
   ]
  },
  {
   "cell_type": "code",
   "execution_count": null,
   "metadata": {},
   "outputs": [],
   "source": []
  }
 ]
}