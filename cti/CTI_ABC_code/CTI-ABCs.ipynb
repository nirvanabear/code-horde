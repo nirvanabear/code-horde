{
 "cells": [
  {
   "cell_type": "code",
   "execution_count": 23,
   "metadata": {},
   "outputs": [
    {
     "name": "stdout",
     "output_type": "stream",
     "text": [
      "False\n"
     ]
    }
   ],
   "source": [
    "'''\n",
    "(())\n",
    "()\n",
    "(()\n",
    "(\n",
    "'''\n",
    "\n",
    "'''\n",
    "def is_balanced(input):\n",
    "    Take in input\n",
    "    create stack (you use list...)\n",
    "    create pass/fail variable\n",
    "    for loop => for each character in the string:\n",
    "        if character == \"(\":\n",
    "            push char onto stack \n",
    "        if character == \")\"\n",
    "            if stack is not empty:\n",
    "                pop char off stack\n",
    "            if stack is empty:\n",
    "                pass/fail variable = fail\n",
    "                break\n",
    "    if stack is empty:\n",
    "        pass/fail var = pass\n",
    "    else:\n",
    "        pass/fail var = fail\n",
    "\n",
    "    return pass/fail var\n",
    "'''\n",
    "\n",
    "class Solution:\n",
    "    def isValid(self, s: str) -> bool:\n",
    "        char_dict = {\"(\": 0, \"{\": 0, \"[\": 0}\n",
    "        close_dict = {\")\": 0, \"}\": 0, \"]\": 0}\n",
    "        balanced = True\n",
    "        \n",
    "        for character in s:\n",
    "            if character in \"([{\":\n",
    "                char_dict[character] += 1\n",
    "            if character in \")]}\":\n",
    "                close_dict[character] += 1\n",
    "                \n",
    "        if char_dict[\"(\"] != close_dict[\")\"]:\n",
    "            balanced = False\n",
    "        if char_dict[\"{\"] != close_dict[\"}\"]:\n",
    "            balanced = False  \n",
    "        if char_dict[\"[\"] != close_dict[\"]\"]:\n",
    "            balanced = False\n",
    "        \n",
    "        return balanced\n",
    "\n",
    "\n",
    "'''\n",
    "paren1 = \"([)]\"\n",
    "paren2 = \"()[]{}\"\n",
    "\n",
    "'''\n",
    "# class Solution:\n",
    "\n",
    "def isValid(s: str) -> bool:\n",
    "    stack = []\n",
    "    balanced = True\n",
    "\n",
    "    for paren in s:\n",
    "        if paren in \"([{\":\n",
    "            stack.append(paren)\n",
    "        elif paren in \")]}\" and stack:\n",
    "            open_paren = stack.pop()\n",
    "            # print(paren + \" and \" + open_paren)\n",
    "            if paren == \")\" and open_paren != \"(\":\n",
    "                balanced = False\n",
    "            elif paren == \"]\" and open_paren != \"[\":\n",
    "                balanced = False\n",
    "            elif paren == \"}\" and open_paren != \"{\":\n",
    "                balanced = False\n",
    "        else:\n",
    "            balanced = False\n",
    "            # print(balanced)\n",
    "    if stack:\n",
    "        balanced = False\n",
    "\n",
    "    return balanced\n",
    "\n",
    "if __name__ == \"__main__\":\n",
    "    paren1 = \"([)]\"\n",
    "    paren2 = \"()[]{}\"\n",
    "    paren3 = \"[\"\n",
    "    paren4 = \"]\"\n",
    "    print(isValid(paren4))\n",
    "\n",
    "\n",
    "\n"
   ]
  },
  {
   "cell_type": "code",
   "execution_count": null,
   "metadata": {},
   "outputs": [],
   "source": []
  },
  {
   "cell_type": "code",
   "execution_count": 8,
   "metadata": {},
   "outputs": [
    {
     "data": {
      "text/plain": [
       "'\\nMAX_VALUE = 1000\\nVALUES = [0, 1, 2, 50, 52, 75]\\nRESULT = \"3-49,51,53-74,76-1000\"\\n\\noutput = \"\"\\nnon_matches = []\\nmax_value = 10\\nfor loop that iterates through max_value + 1:\\n    compare each to element in VALUES\\n        if each exists in Values or each == 1000:\\n            if non_matches is not empty:\\n                if non_matches is greater 1:\\n                    take first and last elem and add to output\\n                    \"first\" + \"-\" + \"last\" + \",\"\\n                then concatinate this to output\\n                empty out non_matches\\n        if each does not:\\n            store in non_matches\\n'"
      ]
     },
     "execution_count": 8,
     "metadata": {},
     "output_type": "execute_result"
    }
   ],
   "source": [
    "'''\n",
    "MAX_VALUE = 1000\n",
    "VALUES = [0, 1, 2, 50, 52, 75]\n",
    "RESULT = \"3-49,51,53-74,76-1000\"\n",
    "\n",
    "output = \"\"\n",
    "non_matches = []\n",
    "max_value = 10\n",
    "for loop that iterates through max_value + 1:\n",
    "    compare each to element in VALUES\n",
    "        if each exists in Values or each == 1000:\n",
    "            if non_matches is not empty:\n",
    "                if non_matches is greater 1:\n",
    "                    take first and last elem and add to output\n",
    "                    \"first\" + \"-\" + \"last\" + \",\"\n",
    "                then concatinate this to output\n",
    "                empty out non_matches\n",
    "        if each does not:\n",
    "            store in non_matches\n",
    "'''"
   ]
  },
  {
   "cell_type": "code",
   "execution_count": 6,
   "metadata": {},
   "outputs": [
    {
     "name": "stdout",
     "output_type": "stream",
     "text": [
      "True\n",
      "False\n",
      "True\n",
      "True\n",
      "False\n"
     ]
    }
   ],
   "source": [
    "'''\n",
    "[1, 2, 5, 7, 9, 0, 6]\n",
    "\n",
    "## v1 ##\n",
    "# these two numbers track largest and smallest\n",
    "pattern_132 = False\n",
    "create a = first element\n",
    "create b = first element\n",
    "\n",
    "for each number in list:\n",
    "    if number larger than a and smaller than b:\n",
    "        set pattern_132 to True\n",
    "        break\n",
    "    elif number larger than b:\n",
    "        store number at b\n",
    "    elif number smaller than a:\n",
    "        store number at a\n",
    "\n",
    "\n",
    "## v2 ##\n",
    "store last number as a\n",
    "store next number as b if > a\n",
    "if next number > b, then store b as a and next number as b \n",
    "if next number is less than both, winner\n",
    "\n",
    "\n",
    "## v3 ##\n",
    "Store multiple ranges as you move down the list\n",
    "    as long as the numbers are growing, \n",
    "        increase the last endpoint of current range\n",
    "    if number is smaller than start point, start a new range\n",
    "test each new number to see if it falls in one of the ranges\n",
    "\n",
    "Each interval must be on an increasing set of numbers\n",
    "    if next number is between the two, then test is true\n",
    "    if next number is below the current low, start new interval\n",
    "\n",
    "'''\n",
    "\n",
    "\n",
    "\n",
    "def find132pattern(nums:'list of ints') -> bool:\n",
    "    current = [nums[0], nums[0]]\n",
    "    endpoints = [current]\n",
    "    pattern_132 = False\n",
    "\n",
    "    for i in range(len(nums)):\n",
    "        for pair in endpoints:\n",
    "            if nums[i] > pair[0] and nums[i] < pair[1]:\n",
    "                pattern_132 = True\n",
    "                break\n",
    "        if nums[i] > current[1]:\n",
    "            current[1] = nums[i]\n",
    "        elif nums[i] < current[0]:\n",
    "            next_pair = [nums[i], nums[i]]\n",
    "            endpoints.append(next_pair)\n",
    "            current = endpoints[-1]\n",
    "        if pattern_132:\n",
    "            break\n",
    "\n",
    "    return pattern_132\n",
    "\n",
    "\n",
    "\n",
    "'''\n",
    "def find132pattern(nums:'list of ints') -> bool:\n",
    "    # a = (nums[0], 0)\n",
    "    # b = (nums[0], 0)\n",
    "    a = nums[-1]\n",
    "    pattern_132 = False\n",
    "    \n",
    "    for i in range(len(nums)):\n",
    "        # if all(j > k for j, k in zip((nums[i], i), a)) and all(m < n for m, n in zip((nums[i], i), b)):\n",
    "        if a[0] < \n",
    "    # for i in range(len(nums) - 1, -1, -1):\n",
    "    #     if nums[i] > a:\n",
    "    #         b > \n",
    "            pattern_132 = True\n",
    "            print('chicken dinner: ' + str(nums[i]))\n",
    "            break\n",
    "        elif nums[i] > b[0]:\n",
    "            b = (nums[i], i)\n",
    "        elif nums[i] < a[0]:\n",
    "            a = (nums[i], i)\n",
    "    return pattern_132\n",
    "'''\n",
    "\n",
    "\n",
    "if __name__ == '__main__':\n",
    "\n",
    "    num_list = [1, 2, 5, 7, 9, 0, 6, -1, 10]\n",
    "    num_list2 = [1,2,3,4]\n",
    "    num_list3 = [3,1,4,2]\n",
    "    num_list4 = [-1,3,2,0]\n",
    "\n",
    "    wrong = [1,0,1,-4,-3]\n",
    "\n",
    "    print(find132pattern(num_list))\n",
    "    print(find132pattern(num_list2))\n",
    "    print(find132pattern(num_list3))\n",
    "    print(find132pattern(num_list4))\n",
    "    print(find132pattern(wrong))\n",
    "\n"
   ]
  },
  {
   "cell_type": "code",
   "execution_count": 41,
   "metadata": {},
   "outputs": [
    {
     "name": "stdout",
     "output_type": "stream",
     "text": [
      "s and True\n",
      "o and False\n",
      "m and False\n",
      "e and False\n",
      "  and False\n",
      "w and False\n",
      "r and False\n",
      "d and False\n",
      "False\n"
     ]
    }
   ],
   "source": [
    "'''\n",
    "Given two strings, string_a and string_b, determine whether any anagram of string_b, occurs as a substring of string_a. \n",
    "\n",
    "    Comparison is NOT case sensitive\n",
    "    Input string sizes vary\n",
    "\n",
    "\n",
    "\n",
    "    Here come dots and lines that helped build America, The Morse Code → TRUE\n",
    "    crowd, word → TRUE\n",
    "    There is no anagram here, some word → FALSE.\n",
    "\n",
    "\n",
    "\n",
    "** psuedocode_v1 **\n",
    "\n",
    "make a dictionary with alphabet : counts\n",
    "create a dictionary with letters : counts from str_b\n",
    "check if counts from alphabet is larger than or equal to letters\n",
    "\n",
    "def function(a,b):\n",
    "    create anagram bool, set to True\n",
    "    create dictionary a\n",
    "    for every letter in str_a:\n",
    "        create a new entry with 1 in counter\n",
    "        or if entry already exists, += 1 the counter\n",
    "    create dictionary b\n",
    "    for each letter:\n",
    "        do the same as above\n",
    "    for each entry in dictionary b:\n",
    "        check for the same in dict a\n",
    "        if counts are > than dict a:\n",
    "            set bool to False\n",
    "\n",
    "'''\n",
    "\n",
    "def makeDict(string):\n",
    "    counts = {}\n",
    "    for each in string:\n",
    "        if each not in counts:\n",
    "            counts[each] = 1\n",
    "        else:\n",
    "            counts[each] += 1\n",
    "    return counts\n",
    "\n",
    "def isAnagramWrongv1(str_a,str_b):\n",
    "    anagram = True\n",
    "    dict_a = makeDict(str_a)\n",
    "    dict_b = makeDict(str_b)\n",
    "    for entry in dict_b:\n",
    "        if entry in dict_a:\n",
    "            if dict_b[entry] > dict_a[entry]:\n",
    "                anagram = False\n",
    "        else:\n",
    "            anagram = False\n",
    "        print(entry + \" and \" + str(anagram))\n",
    "    return anagram\n",
    "\n",
    "\n",
    "if __name__ == \"__main__\":\n",
    "        str1 = \"Here come dots and lines that helped build America\"\n",
    "        str2 = \"The Morse Code\"\n",
    "        str3 = \"crowd\" \n",
    "        str4 = \"word\"\n",
    "        str5 = \"There is no anagram here\" \n",
    "        str6 = \"some word\"\n",
    "\n",
    "        print(isAnagramSimple(str5, str6))\n",
    "\n",
    "\n",
    "\n"
   ]
  },
  {
   "cell_type": "code",
   "execution_count": 32,
   "metadata": {},
   "outputs": [
    {
     "name": "stdout",
     "output_type": "stream",
     "text": [
      "{'a': 2, 'b': 1}\n",
      "2\n",
      "1\n"
     ]
    }
   ],
   "source": [
    "alexis = {'a': 1}\n",
    "'a' in alexis\n",
    "alexis['b'] = 1\n",
    "alexis['a'] += 1\n",
    "print(alexis)\n",
    "for each in alexis:\n",
    "    print(alexis[each])"
   ]
  },
  {
   "cell_type": "code",
   "execution_count": 44,
   "metadata": {},
   "outputs": [
    {
     "name": "stdout",
     "output_type": "stream",
     "text": [
      "g and True\n",
      "a and True\n",
      "m and True\n",
      "e and True\n",
      "True\n"
     ]
    }
   ],
   "source": [
    "def isAnagramWrongv2(str_a,str_b):\n",
    "    anagram = True\n",
    "    dict_a = {}\n",
    "    for each in str_a:\n",
    "        if each not in dict_a:\n",
    "            dict_a[each] = 1\n",
    "        else:\n",
    "            dict_a[each] += 1\n",
    "    dict_b = {}\n",
    "    for every in str_b:\n",
    "        if every not in dict_b:\n",
    "            dict_b[every] = 1\n",
    "        else:\n",
    "            dict_b[every] += 1\n",
    "    for entry in dict_b:\n",
    "        if entry in dict_a:\n",
    "            if dict_b[entry] > dict_a[entry]:\n",
    "                anagram = False\n",
    "        else:\n",
    "            anagram = False\n",
    "        print(entry + \" and \" + str(anagram))\n",
    "    return anagram\n",
    "\n",
    "\n",
    "if __name__ == \"__main__\":\n",
    "        str1 = \"Here come dots and lines that helped build America\"\n",
    "        str2 = \"The Morse Code\"\n",
    "        str3 = \"crowd\" \n",
    "        str4 = \"word\"\n",
    "        str5 = \"There is no anagram here\" \n",
    "        str6 = \"some word\"\n",
    "        str7 = \"game\"\n",
    "\n",
    "        print(isAnagramSimple(str5, str7))"
   ]
  },
  {
   "cell_type": "code",
   "execution_count": 67,
   "metadata": {},
   "outputs": [
    {
     "name": "stdout",
     "output_type": "stream",
     "text": [
      "last: e\n",
      "r\n",
      "e\n",
      "c\n",
      "o\n",
      "m\n",
      "e\n",
      "d\n",
      "o\n",
      "t\n",
      "s\n",
      "a fail\n",
      "algorithm keeps going\n",
      "['h']\n",
      "c\n",
      "o\n",
      "m\n",
      "e\n",
      "d\n",
      "o\n",
      "t\n",
      "s\n",
      "a fail\n",
      "algorithm keeps going\n",
      "['h', 'r', 'e']\n",
      "d\n",
      "o\n",
      "t\n",
      "s\n",
      "a fail\n",
      "algorithm keeps going\n",
      "['h', 'e', 'm', 'r', 'e', 'c', 'o']\n",
      "s\n",
      "t\n",
      "h\n",
      "a fail\n",
      "algorithm keeps going\n",
      "['e', 'm', 'o', 'r', 'e', 'c', 'o', 'd']\n",
      "algorithm keeps going\n",
      "['t', 'h', 'e', 'm', 'o', 'r', 's', 'e', 'c', 'o', 'd']\n",
      "d\n",
      "b fail\n",
      "algorithm keeps going\n",
      "['t', 'h', 'e', 'm', 'o', 'r', 's', 'e', 'c', 'o']\n",
      "r\n",
      "i fail\n",
      "algorithm keeps going\n",
      "['t', 'h', 'e', 'm', 'o', 's', 'e', 'c', 'o', 'd']\n",
      "False\n"
     ]
    }
   ],
   "source": [
    "'''\n",
    "\n",
    "** psuedocode_v2 **\n",
    "\n",
    "make anagram bool\n",
    "make list of str_b\n",
    "pick letter of str_b\n",
    "iterate through str_a to search for letter\n",
    "    from that index, check before and after to match any in str_b\n",
    "        if match, drop letter from list\n",
    "            proceed up if check was higher than initial index\n",
    "            proceed down if check was lower than initial index\n",
    "        else:\n",
    "            set False\n",
    "'''\n",
    "\n",
    "def isAnagramOriginalv3(str_a,str_b):\n",
    "    anagram = False\n",
    "    str_a = \"\".join((str_a.lower()).split())\n",
    "    str_b = \"\".join((str_b.lower()).split())\n",
    "    list_b = list(str_b)\n",
    "    last = list_b.pop()\n",
    "    print(\"last: \" + last)\n",
    "    for q in range(len(str_a)):\n",
    "        if str_a[q] == last:\n",
    "            copy_b = list_b.copy()\n",
    "            r = q           \n",
    "            # if q == 0:\n",
    "            if r + 1 < len(str_a) and str_a[r+1] in copy_b:\n",
    "                while r + 1 < len(str_a) and copy_b:\n",
    "                    if str_a[r+1] in copy_b:\n",
    "                        print(str_a[r+1])\n",
    "                        copy_b.remove(str_a[r+1])\n",
    "                        r += 1\n",
    "                        if not copy_b:\n",
    "                            anagram = True\n",
    "                    else:\n",
    "                        print(str_a[r+1] + \" fail\")\n",
    "                        break\n",
    "            print(\"algorithm keeps going\")\n",
    "            print(copy_b)\n",
    "            r = q\n",
    "            if r - 1 >= 0 and str_a[r-1] in copy_b:\n",
    "                while r - 1 > len(str_a) and copy_b:\n",
    "                    if str_a[r-1] in copy_b:\n",
    "                        print(str_a[r-1])\n",
    "                        copy_b.remove(str_a[r-1])\n",
    "                        r -= 1\n",
    "                        if not copy_b:\n",
    "                            anagram = True\n",
    "                    else:\n",
    "                        print(str_a[r-1] + \" fail\")\n",
    "                        break\n",
    "    return anagram\n",
    "                        \n",
    "\n",
    "if __name__ == \"__main__\":\n",
    "        # Algorithm consumes too many letters going forward, so when it starts to go backward, it fails.\n",
    "        str1 = \"Here come dots and lines that helped build America\"\n",
    "        str2 = \"The Morse Code\"\n",
    "        str3 = \"crowd\" \n",
    "        str4 = \"word\"\n",
    "        str5 = \"There is no anagram here\" \n",
    "        str6 = \"some word\"\n",
    "        str7 = \"game\"\n",
    "\n",
    "        print(isAnagramOriginal(str1, str2))  \n",
    "\n",
    "\n"
   ]
  },
  {
   "cell_type": "code",
   "execution_count": 50,
   "metadata": {},
   "outputs": [
    {
     "name": "stdout",
     "output_type": "stream",
     "text": [
      "['s', 'u', 'p', ' ']\n",
      "['s', 'u', 'p', ' ', 'd', 'o']\n"
     ]
    }
   ],
   "source": [
    "dog = list('sup dog')\n",
    "dog.pop()\n",
    "new_dog = dog.copy()\n",
    "new_dog.pop()\n",
    "new_dog.pop()\n",
    "print(new_dog)\n",
    "print(dog)"
   ]
  },
  {
   "cell_type": "code",
   "execution_count": null,
   "metadata": {},
   "outputs": [],
   "source": []
  },
  {
   "cell_type": "code",
   "execution_count": 87,
   "metadata": {},
   "outputs": [
    {
     "name": "stdout",
     "output_type": "stream",
     "text": [
      "True\n"
     ]
    }
   ],
   "source": [
    "'''\n",
    "index = 0\n",
    "anagram = False\n",
    "while index > len(str_a):\n",
    "    (where index increments through str_a)\n",
    "    if letter in str_b:\n",
    "        match = True\n",
    "        create copy of str_b as a list\n",
    "        remove letter that matched\n",
    "        while match:\n",
    "            increment index\n",
    "            check if next letter is in list\n",
    "            if match:\n",
    "                remove letter from list\n",
    "            else:\n",
    "                match = False\n",
    "            if not list:\n",
    "                anagram = True\n",
    "'''\n",
    "    \n",
    "\n",
    "def isAnagramOriginal(str_a,str_b):\n",
    "    if(len(str_b) > len(str_a)):\n",
    "        return False\n",
    "    else:\n",
    "        # formatting inputs and initializing variables.\n",
    "        anagram = False\n",
    "        str_a = \"\".join((str_a.lower()).split())\n",
    "        str_b = \"\".join((str_b.lower()).split())\n",
    "\n",
    "        # while loop allows index to increment in multiple places,\n",
    "        # but it is essentially a for loop through the str_a \n",
    "        # letters. the while loop also quits immediately upon \n",
    "        # evaluating to True.\n",
    "        index = 0\n",
    "        while index < len(str_a) and not anagram:\n",
    "            # if the letter from str_a matches in str_b, it \n",
    "            # triggers the match algorithm that sets the match to \n",
    "            # True and creates a list of str_b letters.\n",
    "            if str_a[index] in str_b:\n",
    "                match = True\n",
    "                list_b = list(str_b)\n",
    "                list_b.remove(str_a[index])\n",
    "                # further matches keep match as True and increment \n",
    "                # index while also eliminating matched letters \n",
    "                # from the str_b list, until list is empty, or \n",
    "                # non-match is found.\n",
    "                while match and not anagram:\n",
    "                    index += 1\n",
    "                    if index < len(str_a) and str_a[index] in list_b:\n",
    "                        list_b.remove(str_a[index])\n",
    "                    else:\n",
    "                        match = False\n",
    "                    if not list_b:\n",
    "                        anagram = True\n",
    "            # increments if not a matching letter.\n",
    "            else:\n",
    "                index += 1\n",
    "\n",
    "        return anagram\n",
    "                        \n",
    "\n",
    "if __name__ == \"__main__\":\n",
    "\n",
    "        str1 = \"Here come dots and lines that helped build America\"\n",
    "        str2 = \"The Morse Code\"\n",
    "        str3 = \"crowd\" \n",
    "        str4 = \"word\"\n",
    "        str5 = \"There is no anagram here\" \n",
    "        str6 = \"some word\"\n",
    "        str7 = \"game\"\n",
    "\n",
    "        print(isAnagramOriginal(str3, str4))  "
   ]
  },
  {
   "cell_type": "code",
   "execution_count": 73,
   "metadata": {},
   "outputs": [
    {
     "name": "stdout",
     "output_type": "stream",
     "text": [
      "empty\n"
     ]
    }
   ],
   "source": [
    "moira = []\n",
    "if not moira:\n",
    "    print(\"empty\")"
   ]
  },
  {
   "cell_type": "code",
   "execution_count": null,
   "metadata": {},
   "outputs": [],
   "source": [
    "'''\n",
    "Given a list of distinct integers from 0 to a value MAX_VALUE, write a function to produce a string that describes the ranges of numbers missing from the list.\n",
    "The items in the result should be sorted in ascending order and separated by commas. When a gap spans only one number, the item is the number itself; when a gap is longer, the item comprises the start and the end of the gap, joined with a minus sign.\n",
    "\n",
    "MAX_VALUE = 1000\n",
    "VALUES = [0, 1, 2, 50, 52, 75]\n",
    "RESULT = \"3-49,51,53-74,76-1000\"\n",
    "\n",
    "** psuedocode_v1 **\n",
    "\n",
    "sort values\n",
    "create empty string output\n",
    "if lowest number is greater than zero:\n",
    "    add from 0 to one less than lowest to string output\n",
    "loop through list (starting at index = 1):\n",
    "    if current index != (index - 1) + 1:\n",
    "        add from (index - 1) + 1 to (index) - 1 to string output\n",
    "if highest is less than max_value:\n",
    "    add highest + 1 to max_value to string output\n",
    "\n",
    "\n",
    "helper function\n",
    "    take either two numbers or one number and format correctly\n",
    "\n",
    "'''\n",
    "\n",
    "\n",
    "def missingElementStepIII(arr, max_value):\n",
    "    return_value = \"\"\n",
    "    ## TODO ## Make an algorithm which takes one or two numbers and\n",
    "    # outputs in proper format...\n",
    "    if arr[0] > 0:\n",
    "        return_value += \"0-\" + str(arr[])\n",
    "    for t in range(1, len(values)):\n",
    "        if values[0] > 0:\n",
    "            result += \n",
    "\n",
    "\n"
   ]
  },
  {
   "cell_type": "code",
   "execution_count": 89,
   "metadata": {},
   "outputs": [
    {
     "data": {
      "text/plain": [
       "'hello world'"
      ]
     },
     "execution_count": 89,
     "metadata": {},
     "output_type": "execute_result"
    }
   ],
   "source": [
    "stevie = \"hello \"\n",
    "stevie += \"world\"\n",
    "stevie"
   ]
  },
  {
   "cell_type": "code",
   "execution_count": 1,
   "metadata": {},
   "outputs": [
    {
     "name": "stdout",
     "output_type": "stream",
     "text": [
      "\n",
      "Please wait a moment while I gather a list of all available modules...\n",
      "\n"
     ]
    }
   ],
   "source": [
    "help(\"modules\")"
   ]
  },
  {
   "cell_type": "code",
   "execution_count": 1,
   "metadata": {},
   "outputs": [
    {
     "name": "stdout",
     "output_type": "stream",
     "text": [
      "hello world\n"
     ]
    }
   ],
   "source": [
    "print(\"hello world\")"
   ]
  },
  {
   "cell_type": "code",
   "execution_count": 3,
   "metadata": {},
   "outputs": [
    {
     "ename": "SyntaxError",
     "evalue": "invalid syntax (<ipython-input-3-d8603f9f9bc3>, line 1)",
     "output_type": "error",
     "traceback": [
      "\u001b[0;36m  File \u001b[0;32m\"<ipython-input-3-d8603f9f9bc3>\"\u001b[0;36m, line \u001b[0;32m1\u001b[0m\n\u001b[0;31m    which python\u001b[0m\n\u001b[0m               ^\u001b[0m\n\u001b[0;31mSyntaxError\u001b[0m\u001b[0;31m:\u001b[0m invalid syntax\n"
     ]
    }
   ],
   "source": [
    "which python"
   ]
  },
  {
   "cell_type": "code",
   "execution_count": 4,
   "metadata": {},
   "outputs": [
    {
     "data": {
      "text/plain": "['/Users/nirvanabear/Documents/code/CTI/code-horde/cti/CTI_ABCs',\n '/Users/nirvanabear/.vscode-insiders/extensions/ms-toolsai.jupyter-2020.12.414227025/pythonFiles',\n '/Users/nirvanabear/.vscode-insiders/extensions/ms-toolsai.jupyter-2020.12.414227025/pythonFiles/lib/python',\n '/Users/nirvanabear/opt/miniconda3/lib/python37.zip',\n '/Users/nirvanabear/opt/miniconda3/lib/python3.7',\n '/Users/nirvanabear/opt/miniconda3/lib/python3.7/lib-dynload',\n '',\n '/Users/nirvanabear/.local/lib/python3.7/site-packages',\n '/Users/nirvanabear/opt/miniconda3/lib/python3.7/site-packages',\n '/Users/nirvanabear/opt/miniconda3/lib/python3.7/site-packages/IPython/extensions',\n '/Users/nirvanabear/.ipython']"
     },
     "execution_count": 4,
     "metadata": {},
     "output_type": "execute_result"
    }
   ],
   "source": [
    "import sys\n",
    "sys.path"
   ]
  },
  {
   "cell_type": "code",
   "execution_count": 5,
   "metadata": {},
   "outputs": [
    {
     "ename": "ModuleNotFoundError",
     "evalue": "No module named 'twine'",
     "output_type": "error",
     "traceback": [
      "\u001b[0;31m---------------------------------------------------------------------------\u001b[0m",
      "\u001b[0;31mModuleNotFoundError\u001b[0m                       Traceback (most recent call last)",
      "\u001b[0;32m<ipython-input-5-a9094759dc1d>\u001b[0m in \u001b[0;36m<module>\u001b[0;34m\u001b[0m\n\u001b[0;32m----> 1\u001b[0;31m \u001b[0;32mimport\u001b[0m \u001b[0mtwine\u001b[0m\u001b[0;34m\u001b[0m\u001b[0;34m\u001b[0m\u001b[0m\n\u001b[0m",
      "\u001b[0;31mModuleNotFoundError\u001b[0m: No module named 'twine'"
     ]
    }
   ],
   "source": [
    "import twine"
   ]
  },
  {
   "cell_type": "code",
   "execution_count": 21,
   "metadata": {},
   "outputs": [],
   "source": [
    "'''\n",
    "Given a string, determine if it is a palindrome, considering only alphanumeric characters and ignoring cases.\n",
    "\n",
    "Note: For the purpose of this problem, we define empty string as valid palindrome.\n",
    "\n",
    "Example 1:\n",
    "\n",
    "Input: \"A man, a plan, a canal: Panama\"\n",
    "Output: true\n",
    "\n",
    "Example 2:\n",
    "\n",
    "Input: \"race a car\"\n",
    "Output: false\n",
    "\n",
    " \n",
    "\n",
    "Constraints:\n",
    "\n",
    "    s consists only of printable ASCII characters.\n",
    "\n",
    "\n",
    "** pseudocode **\n",
    "\n",
    "Remove all non alphanumeric values from the string\n",
    "Change all letters to lowercase\n",
    "Create an isPalin boolean and set to true\n",
    "Add each character to a list\n",
    "While isPalin and len(list) > 1:\n",
    "    Compare list[0] with list[-1]\n",
    "        if ==, pop list and remove list[0]\n",
    "        if not, set isPalin to false\n",
    "return isPalin\n",
    "\n",
    "\n",
    "\n",
    "'''\n",
    "\n",
    "\n",
    "def isPalindrome(s):\n",
    "    stack = []\n",
    "    for char in s:\n",
    "        if char.isalnum():\n",
    "            stack.append(char.lower())\n",
    "    print(stack)   \n",
    "    isPalin = True\n",
    "    while isPalin and len(stack) > 1:\n",
    "        print(stack)\n",
    "        if stack[0] == stack[-1]:\n",
    "            stack.pop(-1)\n",
    "            stack.pop(0)\n",
    "        else:\n",
    "            isPalin = False\n",
    "    print(stack)\n",
    "    return isPalin\n",
    "\n"
   ]
  },
  {
   "cell_type": "code",
   "execution_count": 6,
   "metadata": {},
   "outputs": [
    {
     "data": {
      "text/plain": "True"
     },
     "execution_count": 6,
     "metadata": {},
     "output_type": "execute_result"
    }
   ],
   "source": [
    "becca = [1]\n",
    "becca[0] == becca[-1]"
   ]
  },
  {
   "cell_type": "code",
   "execution_count": 10,
   "metadata": {},
   "outputs": [
    {
     "data": {
      "text/plain": "4"
     },
     "execution_count": 10,
     "metadata": {},
     "output_type": "execute_result"
    }
   ],
   "source": [
    "\"jane\".isalpha()\n",
    "\"JOAN\".lower()\n",
    "[1,2,3,4].pop(-1)"
   ]
  },
  {
   "cell_type": "code",
   "execution_count": 22,
   "metadata": {},
   "outputs": [
    {
     "name": "stdout",
     "output_type": "stream",
     "text": [
      "['0', 'p']\n",
      "['0', 'p']\n",
      "['0', 'p']\n"
     ]
    },
    {
     "data": {
      "text/plain": "False"
     },
     "execution_count": 22,
     "metadata": {},
     "output_type": "execute_result"
    }
   ],
   "source": [
    "allison = \"0P\"\n",
    "isPalindrome(allison)"
   ]
  },
  {
   "cell_type": "code",
   "execution_count": null,
   "metadata": {},
   "outputs": [],
   "source": [
    "'''\n",
    "Symbol       Value\n",
    "I             1\n",
    "V             5\n",
    "X             10\n",
    "L             50\n",
    "C             100\n",
    "D             500\n",
    "M             1000\n",
    "\n",
    "\n",
    "    I can be placed before V (5) and X (10) to make 4 and 9. \n",
    "    X can be placed before L (50) and C (100) to make 40 and 90. \n",
    "    C can be placed before D (500) and M (1000) to make 400 and 900.\n",
    "\n",
    "Given a roman numeral, convert it to an integer.\n",
    "\n",
    "Input: s = \"MCMXCIV\"\n",
    "Output: 1994\n",
    "Explanation: M = 1000, CM = 900, XC = 90 and IV = 4.\n",
    "\n",
    "** pseudocode **\n",
    "\n"
   ]
  },
  {
   "cell_type": "markdown",
   "metadata": {},
   "source": []
  },
  {
   "cell_type": "code",
   "execution_count": 23,
   "metadata": {},
   "outputs": [],
   "source": [
    "def move(nums):\n",
    "    new_nums = []\n",
    "    new_index = 0\n",
    "    for each in nums:\n",
    "        if each == 0:\n",
    "            new_nums.append(0)\n",
    "        else:\n",
    "            new_nums.insert(new_index, each)\n",
    "            new_index +=1\n",
    "\n",
    "    return new_nums"
   ]
  },
  {
   "cell_type": "code",
   "execution_count": null,
   "metadata": {},
   "outputs": [],
   "source": [
    "def move(nums):\n",
    "    new_nums = []\n",
    "    zero_counter = 0\n",
    "    for each in nums:\n",
    "        if each == 0:\n",
    "            zero_counter += 1\n",
    "    for each in nums:\n",
    "        if each != 0:\n",
    "            new_nums.append(each)\n",
    "    while zero_counter > 0:\n",
    "        new_nums.append(0)\n",
    "        zero_counter -= 1\n",
    "    \n",
    "    return new_nums"
   ]
  }
 ],
 "metadata": {
  "kernelspec": {
   "display_name": "Python 3",
   "name": "python3"
  },
  "language_info": {
   "codemirror_mode": {
    "name": "ipython",
    "version": 3
   },
   "file_extension": ".py",
   "mimetype": "text/x-python",
   "name": "python",
   "nbconvert_exporter": "python",
   "pygments_lexer": "ipython3",
   "version": "3.7.6-final"
  },
  "orig_nbformat": 2
 },
 "nbformat": 4,
 "nbformat_minor": 2
}