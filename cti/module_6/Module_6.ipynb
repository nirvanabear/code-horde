{
 "cells": [
  {
   "cell_type": "code",
   "execution_count": 2,
   "metadata": {},
   "outputs": [
    {
     "output_type": "execute_result",
     "data": {
      "text/plain": "[1, 2, [6, 7]]"
     },
     "metadata": {},
     "execution_count": 2
    }
   ],
   "source": [
    "temp_array = [1,2]\n",
    "other_array = [5,6,7]\n",
    "temp_array.append(other_array[1:])\n",
    "temp_array"
   ]
  },
  {
   "cell_type": "code",
   "execution_count": 1,
   "metadata": {},
   "outputs": [
    {
     "output_type": "execute_result",
     "data": {
      "text/plain": "False"
     },
     "metadata": {},
     "execution_count": 1
    }
   ],
   "source": [
    "\"\".isnumeric()"
   ]
  },
  {
   "cell_type": "code",
   "execution_count": 3,
   "metadata": {},
   "outputs": [
    {
     "output_type": "execute_result",
     "data": {
      "text/plain": "9223372036854775807"
     },
     "metadata": {},
     "execution_count": 3
    }
   ],
   "source": [
    "import sys\n",
    "sys.maxsize"
   ]
  },
  {
   "cell_type": "code",
   "execution_count": 1,
   "metadata": {},
   "outputs": [
    {
     "output_type": "execute_result",
     "data": {
      "text/plain": "396"
     },
     "metadata": {},
     "execution_count": 1
    }
   ],
   "source": [
    "33*12"
   ]
  },
  {
   "cell_type": "code",
   "execution_count": 10,
   "metadata": {
    "tags": []
   },
   "outputs": [
    {
     "output_type": "stream",
     "name": "stdout",
     "text": "[[1], [2], [3], [4]]\n"
    }
   ],
   "source": [
    "numbers = [1,2,3,4]\n",
    "initial = []\n",
    "for each in numbers:\n",
    "    longer = []\n",
    "    longer.append(each)\n",
    "    initial.append(longer)\n",
    "print(initial)"
   ]
  },
  {
   "cell_type": "code",
   "execution_count": 11,
   "metadata": {
    "tags": []
   },
   "outputs": [
    {
     "output_type": "stream",
     "name": "stdout",
     "text": "stack2: [[5, 6], [4, 23], [7, 56], [5, 234], [4, 23], [345, 645], [65, 2456], [3, 6], [7, 34]]\nstack1: [[1, 2, 8], [3, 6, 7, 34], [65, 345, 645, 2456], [4, 5, 23, 234]]\nstack2: [[4, 5, 6, 7, 23, 56], [4, 5, 23, 65, 234, 345, 645, 2456], [1, 2, 3, 6, 7, 8, 34]]\nstack1: [[1, 2, 3, 4, 4, 5, 5, 6, 6, 7, 7, 8, 23, 23, 34, 56, 65, 234, 345, 645, 2456]]\n[[1, 2, 3, 4, 4, 5, 5, 6, 6, 7, 7, 8, 23, 23, 34, 56, 65, 234, 345, 645, 2456]]\nstack1 length: 1\n[]\nstack2 length: 0\n[1, 2, 3, 4, 4, 5, 5, 6, 6, 7, 7, 8, 23, 23, 34, 56, 65, 234, 345, 645, 2456]\n"
    }
   ],
   "source": [
    "# iterative version:\n",
    "\n",
    "def merge_sort(nums):\n",
    "    stack1 = []\n",
    "    for each in nums:\n",
    "        initial = []\n",
    "        initial.append(each)\n",
    "        stack1.append(initial)\n",
    "    stack2 = []\n",
    "\n",
    "    while not (len(stack1) == 1 and len(stack2) == 0):\n",
    "        while len(stack1) > 1:\n",
    "            half1 = stack1.pop()\n",
    "            half2 = stack1.pop()\n",
    "            merged_list = merge(half1, half2)\n",
    "            stack2.append(merged_list)\n",
    "        if len(stack1) == 1 and len(stack2) > 0:\n",
    "            half1 = stack1.pop()\n",
    "            half2 = stack2.pop()\n",
    "            merged_list = merge(half1, half2)\n",
    "            stack1.append(merged_list)\n",
    "        print(\"stack2: \" + str(stack2))\n",
    "        while len(stack2) > 1:\n",
    "            half1 = stack2.pop()\n",
    "            half2 = stack2.pop()\n",
    "            merged_list = merge(half1, half2)\n",
    "            stack1.append(merged_list)\n",
    "        if len(stack2) == 1 and len(stack1) > 0:\n",
    "            half1 = stack2.pop()\n",
    "            half2 = stack1.pop()\n",
    "            merged_list = merge(half1, half2)\n",
    "            stack2.append(merged_list)\n",
    "        if len(stack2) == 1 and len(stack1) == 0:\n",
    "            last = stack2.pop()\n",
    "            stack1.append(last)\n",
    "        print(\"stack1: \" + str(stack1))\n",
    "        \n",
    "    \n",
    "    print(stack1)\n",
    "    print(\"stack1 length: \" + str(len(stack1)))\n",
    "    print(stack2)\n",
    "    print(\"stack2 length: \" + str(len(stack2)))\n",
    "\n",
    "    if len(stack1) > 0:\n",
    "        finished_sort = stack1\n",
    "    else:\n",
    "        finished_sort = stack2\n",
    "\n",
    "    # print(finished_sort)\n",
    "\n",
    "    return finished_sort[0]\n",
    "\n",
    "\n",
    "def merge(half1, half2):\n",
    "    i = 0\n",
    "    j = 0\n",
    "    temp_array = []\n",
    "    # Start here: \n",
    "    # Never mind that you don't know where halves come from\n",
    "    while i < len(half1) and j < len(half2):\n",
    "        if half1[i] <= half2[j]:\n",
    "            # add half1[i] to temp_array\n",
    "            temp_array.append(half1[i])\n",
    "            # i++\n",
    "            i += 1\n",
    "        else:\n",
    "            # add half2[j] to temp_array\n",
    "            temp_array.append(half2[j])\n",
    "            # j++\n",
    "            j += 1\n",
    "    # add rest of array where i or j is less than len to temp_array\n",
    "    if i == len(half1):\n",
    "        temp_array.extend(half2[j:])\n",
    "    else:\n",
    "        temp_array.extend(half1[i:])\n",
    "\n",
    "    return temp_array   \n",
    "\n",
    "\n",
    "\n",
    "array = [1,2,8,7,34,6,3,65,2456,645,345,4,23,5,234,56,7,23,4,5,6]\n",
    "print(merge_sort(array))"
   ]
  },
  {
   "cell_type": "code",
   "execution_count": 1,
   "metadata": {},
   "outputs": [
    {
     "output_type": "execute_result",
     "data": {
      "text/plain": "5"
     },
     "metadata": {},
     "execution_count": 1
    }
   ],
   "source": [
    "max([5, 2, 3, 4, 1])"
   ]
  },
  {
   "cell_type": "code",
   "execution_count": 5,
   "metadata": {},
   "outputs": [
    {
     "output_type": "execute_result",
     "data": {
      "text/plain": "True"
     },
     "metadata": {},
     "execution_count": 5
    }
   ],
   "source": [
    "float('-inf') < -123871523407892345078"
   ]
  },
  {
   "cell_type": "code",
   "execution_count": 9,
   "metadata": {
    "tags": []
   },
   "outputs": [
    {
     "output_type": "stream",
     "name": "stdout",
     "text": "0\n1\n2\n3\n4\n"
    }
   ],
   "source": [
    "for star in range(5):\n",
    "    print(star)"
   ]
  },
  {
   "cell_type": "code",
   "execution_count": 10,
   "metadata": {},
   "outputs": [
    {
     "output_type": "execute_result",
     "data": {
      "text/plain": "'/usr/local/Cellar/python/3.7.6_1/Frameworks/Python.framework/Versions/3.7'"
     },
     "metadata": {},
     "execution_count": 10
    }
   ],
   "source": [
    "import sys\n",
    "sys.prefix"
   ]
  },
  {
   "cell_type": "code",
   "execution_count": 11,
   "metadata": {},
   "outputs": [
    {
     "output_type": "execute_result",
     "data": {
      "text/plain": "['/usr/local/Cellar/python/3.7.6_1/Frameworks/Python.framework/Versions/3.7/lib/python3.7/site-packages']"
     },
     "metadata": {},
     "execution_count": 11
    }
   ],
   "source": [
    "import site\n",
    "site.getsitepackages()"
   ]
  },
  {
   "cell_type": "code",
   "execution_count": 12,
   "metadata": {},
   "outputs": [],
   "source": [
    "import numpy"
   ]
  },
  {
   "cell_type": "code",
   "execution_count": null,
   "metadata": {},
   "outputs": [],
   "source": []
  }
 ],
 "metadata": {
  "language_info": {
   "codemirror_mode": {
    "name": "ipython",
    "version": 3
   },
   "file_extension": ".py",
   "mimetype": "text/x-python",
   "name": "python",
   "nbconvert_exporter": "python",
   "pygments_lexer": "ipython3",
   "version": "3.7.6-final"
  },
  "orig_nbformat": 2,
  "kernelspec": {
   "name": "python37664bit8a43dbdd40654b49a703c48a269fb567",
   "display_name": "Python 3.7.6 64-bit"
  }
 },
 "nbformat": 4,
 "nbformat_minor": 2
}