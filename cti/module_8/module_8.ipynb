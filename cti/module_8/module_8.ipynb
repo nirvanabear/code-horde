{
 "metadata": {
  "language_info": {
   "codemirror_mode": {
    "name": "ipython",
    "version": 3
   },
   "file_extension": ".py",
   "mimetype": "text/x-python",
   "name": "python",
   "nbconvert_exporter": "python",
   "pygments_lexer": "ipython3",
   "version": "3.7.6-final"
  },
  "orig_nbformat": 2,
  "kernelspec": {
   "name": "python37664bit1965629d64904bc8bfed23b2816a8fbf",
   "display_name": "Python 3.7.6 64-bit"
  }
 },
 "nbformat": 4,
 "nbformat_minor": 2,
 "cells": [
  {
   "cell_type": "code",
   "execution_count": 3,
   "metadata": {},
   "outputs": [
    {
     "output_type": "execute_result",
     "data": {
      "text/plain": "['I ',\n 'do ',\n 'not ',\n 'like ',\n 'green ',\n 'eggs ',\n 'and ',\n 'ham,\\n',\n 'I ',\n 'do ',\n 'not ',\n 'like ',\n 'them, ',\n 'Sam-I-Am!\\n',\n 'I ',\n 'do ',\n 'not ',\n 'like ',\n 'them ',\n 'with ',\n 'a ',\n 'fox,\\n',\n 'I ',\n 'do ',\n 'not ',\n 'like ',\n 'them ',\n 'in ',\n 'a ',\n 'box.\\n',\n 'I ',\n 'do ',\n 'not ',\n 'like ',\n 'them ',\n 'here ',\n 'or ',\n 'there,\\n',\n 'I ',\n 'do ',\n 'not ',\n 'like ',\n 'them ',\n 'anywhere!\\n',\n 'I ',\n 'do ',\n 'not ',\n 'like ',\n 'them, ',\n 'Sam-I-Am,\\n',\n 'I ',\n 'do ',\n 'not ',\n 'like ',\n 'green ',\n 'eggs ',\n 'and ',\n 'ham!']"
     },
     "metadata": {},
     "execution_count": 3
    }
   ],
   "source": [
    "import re\n",
    "\n",
    "SamIAm = '''I do not like green eggs and ham,\n",
    "I do not like them, Sam-I-Am!\n",
    "I do not like them with a fox,\n",
    "I do not like them in a box.\n",
    "I do not like them here or there,\n",
    "I do not like them anywhere!\n",
    "I do not like them, Sam-I-Am,\n",
    "I do not like green eggs and ham!'''\n",
    "\n",
    "SamIAm.split(' ')\n",
    "re.split(r'\\s', SamIAm)\n",
    "re.split(r'(\\s)', SamIAm)\n",
    "re.split(r'\\b', SamIAm)\n",
    "re.split(r'([\\w+\\W]\\s)', SamIAm)\n",
    "re.match(r'\\b', SamIAm)\n",
    "\n",
    "re.findall(r'\\S+\\s+', SamIAm)\n",
    "# other\n",
    "re.split(r'\\b', SamIAm)\n",
    "re.split(r'(\\b\\S+\\s+\\b)', SamIAm)\n",
    "# version used in bigram_frequency_analyzer.py\n",
    "re.findall(r'\\S+\\s+|\\S+', SamIAm)"
   ]
  },
  {
   "cell_type": "code",
   "execution_count": 106,
   "metadata": {},
   "outputs": [
    {
     "output_type": "execute_result",
     "data": {
      "text/plain": "['foo', '/', 'bar', ' ', 'spam', '\\n', 'eggs']"
     },
     "metadata": {},
     "execution_count": 106
    }
   ],
   "source": [
    "re.split('(\\W)', 'foo/bar spam\\neggs')\n",
    "['foo', '/', 'bar', ' ', 'spam', '\\n', 'eggs']"
   ]
  },
  {
   "cell_type": "code",
   "execution_count": 45,
   "metadata": {},
   "outputs": [],
   "source": [
    "sys.path.append('/Users/nirvanabear/Documents/code/CTI/code-horde/cti/module_3')"
   ]
  },
  {
   "cell_type": "code",
   "execution_count": 53,
   "metadata": {
    "tags": []
   },
   "outputs": [
    {
     "output_type": "stream",
     "name": "stdout",
     "text": "[2, 1, 4, 3]\n"
    }
   ],
   "source": [
    "from wave_array import *\n",
    "\n",
    "numbers1 = [1, 2, 3, 4]\n",
    "print(wave_array(numbers1))"
   ]
  },
  {
   "cell_type": "code",
   "execution_count": 49,
   "metadata": {},
   "outputs": [
    {
     "output_type": "execute_result",
     "data": {
      "text/plain": "['/Users/nirvanabear/Documents/code/CTI/code-horde/cti/module_8',\n '/private/var/folders/13/xknb65b54xd70pmy1kr9rrjr0000gn/T/b8d13c2e-fa1c-4867-82d1-cf6cadb4fdcf',\n '/Users/nirvanabear/.vscode/extensions/ms-python.python-2020.7.94776/pythonFiles',\n '/Users/nirvanabear/.vscode/extensions/ms-python.python-2020.7.94776/pythonFiles/lib/python',\n '/usr/local/opt/python/Frameworks/Python.framework/Versions/3.7/lib/python37.zip',\n '/usr/local/opt/python/Frameworks/Python.framework/Versions/3.7/lib/python3.7',\n '/usr/local/opt/python/Frameworks/Python.framework/Versions/3.7/lib/python3.7/lib-dynload',\n '',\n '/Users/nirvanabear/.local/share/virtualenvs/cti-Eja-5NCn/lib/python3.7/site-packages',\n '/Users/nirvanabear/.local/share/virtualenvs/cti-Eja-5NCn/lib/python3.7/site-packages/IPython/extensions',\n '/Users/nirvanabear/.ipython',\n '/Users/nirvanabear/Documents/code/CTI/code-horde/cti/module_3']"
     },
     "metadata": {},
     "execution_count": 49
    }
   ],
   "source": [
    "sys.path"
   ]
  },
  {
   "cell_type": "code",
   "execution_count": 54,
   "metadata": {},
   "outputs": [
    {
     "output_type": "execute_result",
     "data": {
      "text/plain": "'ham, '"
     },
     "metadata": {},
     "execution_count": 54
    }
   ],
   "source": [
    "ham = 'ham,\\n'\n",
    "re.sub('\\n', ' ', ham)"
   ]
  },
  {
   "cell_type": "code",
   "execution_count": 67,
   "metadata": {
    "tags": []
   },
   "outputs": [
    {
     "output_type": "stream",
     "name": "stdout",
     "text": "I \ndo \nnot \nlike \ngreen \neggs \nand \nham,\n\nI \ndo \nnot \nlike \nthem, \nSam-I-Am!\n\nI \ndo \nnot \nlike \nthem \nwith \na \nfox,\n\nI \ndo \nnot \nlike \nthem \nin \na \nbox.\n\nI \ndo \nnot \nlike \nthem \nhere \nor \nthere,\n\nI \ndo \nnot \nlike \nthem \nanywhere!\n\nI \ndo \nnot \nlike \nthem, \nSam-I-Am,\n\nI \ndo \nnot \nlike \ngreen \neggs \nand \n"
    }
   ],
   "source": [
    "SamIAm = '''I do not like green eggs and ham,\n",
    "I do not like them, Sam-I-Am!\n",
    "I do not like them with a fox,\n",
    "I do not like them in a box.\n",
    "I do not like them here or there,\n",
    "I do not like them anywhere!\n",
    "I do not like them, Sam-I-Am,\n",
    "I do not like green eggs and ham!'''\n",
    "\n",
    "re.findall(r'\\S+\\s+', SamIAm)\n",
    "sam_object = re.search(r'\\S+\\s+', SamIAm)\n",
    "# sam_object.expand(' ')    # IDK\n",
    "sam_object.group(0)         # 'I '\n",
    "sam_object.group()         # DNE\n",
    "sam_object.pos              # starting position of the original search\n",
    "sam_object.re               # the regex object used to search\n",
    "sam_object = re.finditer(r'\\S+\\s+', SamIAm)\n",
    "\n",
    "\n",
    "for s in sam_object:\n",
    "    # print(s.span())\n",
    "    # print(s)\n",
    "    print(s.group())\n",
    "    # print(s.string)\n"
   ]
  },
  {
   "cell_type": "code",
   "execution_count": 89,
   "metadata": {
    "tags": []
   },
   "outputs": [
    {
     "output_type": "error",
     "ename": "AttributeError",
     "evalue": "'re.Match' object has no attribute 'match'",
     "traceback": [
      "\u001b[0;31m---------------------------------------------------------------------------\u001b[0m",
      "\u001b[0;31mAttributeError\u001b[0m                            Traceback (most recent call last)",
      "\u001b[0;32m<ipython-input-89-2aac6d530e8e>\u001b[0m in \u001b[0;36m<module>\u001b[0;34m\u001b[0m\n\u001b[1;32m      1\u001b[0m \u001b[0;32mfor\u001b[0m \u001b[0ms\u001b[0m \u001b[0;32min\u001b[0m \u001b[0msam_object\u001b[0m\u001b[0;34m:\u001b[0m\u001b[0;34m\u001b[0m\u001b[0;34m\u001b[0m\u001b[0m\n\u001b[1;32m      2\u001b[0m     \u001b[0;31m# print(s.span())\u001b[0m\u001b[0;34m\u001b[0m\u001b[0;34m\u001b[0m\u001b[0;34m\u001b[0m\u001b[0m\n\u001b[0;32m----> 3\u001b[0;31m     \u001b[0mprint\u001b[0m\u001b[0;34m(\u001b[0m\u001b[0ms\u001b[0m\u001b[0;34m.\u001b[0m\u001b[0mmatch\u001b[0m\u001b[0;34m(\u001b[0m\u001b[0;34m)\u001b[0m\u001b[0;34m)\u001b[0m\u001b[0;34m\u001b[0m\u001b[0;34m\u001b[0m\u001b[0m\n\u001b[0m\u001b[1;32m      4\u001b[0m \u001b[0;31m# next(sam_object)\u001b[0m\u001b[0;34m\u001b[0m\u001b[0;34m\u001b[0m\u001b[0;34m\u001b[0m\u001b[0m\n",
      "\u001b[0;31mAttributeError\u001b[0m: 're.Match' object has no attribute 'match'"
     ]
    }
   ],
   "source": []
  },
  {
   "cell_type": "code",
   "execution_count": 66,
   "metadata": {},
   "outputs": [
    {
     "output_type": "execute_result",
     "data": {
      "text/plain": "1"
     },
     "metadata": {},
     "execution_count": 66
    }
   ],
   "source": [
    "list_iter = [1, 2, 3, 4].__iter__()\n",
    "list_iter\n",
    "next(list_iter)"
   ]
  },
  {
   "cell_type": "code",
   "execution_count": 81,
   "metadata": {
    "tags": []
   },
   "outputs": [
    {
     "output_type": "stream",
     "name": "stdout",
     "text": "1\n2\n3\n4\n"
    }
   ],
   "source": [
    "for thing in list_iter:\n",
    "    print(thing)"
   ]
  },
  {
   "cell_type": "code",
   "execution_count": 84,
   "metadata": {},
   "outputs": [
    {
     "output_type": "execute_result",
     "data": {
      "text/plain": "123"
     },
     "metadata": {},
     "execution_count": 84
    }
   ],
   "source": [
    "def gen():\n",
    "    yield 123\n",
    "# gen()\n",
    "next(gen())"
   ]
  },
  {
   "cell_type": "code",
   "execution_count": 5,
   "metadata": {
    "tags": []
   },
   "outputs": [
    {
     "output_type": "stream",
     "name": "stdout",
     "text": "Help on class Counter in module collections:\n\nclass Counter(builtins.dict)\n |  Counter(*args, **kwds)\n |  \n |  Dict subclass for counting hashable items.  Sometimes called a bag\n |  or multiset.  Elements are stored as dictionary keys and their counts\n |  are stored as dictionary values.\n |  \n |  >>> c = Counter('abcdeabcdabcaba')  # count elements from a string\n |  \n |  >>> c.most_common(3)                # three most common elements\n |  [('a', 5), ('b', 4), ('c', 3)]\n |  >>> sorted(c)                       # list all unique elements\n |  ['a', 'b', 'c', 'd', 'e']\n |  >>> ''.join(sorted(c.elements()))   # list elements with repetitions\n |  'aaaaabbbbcccdde'\n |  >>> sum(c.values())                 # total of all counts\n |  15\n |  \n |  >>> c['a']                          # count of letter 'a'\n |  5\n |  >>> for elem in 'shazam':           # update counts from an iterable\n |  ...     c[elem] += 1                # by adding 1 to each element's count\n |  >>> c['a']                          # now there are seven 'a'\n |  7\n |  >>> del c['b']                      # remove all 'b'\n |  >>> c['b']                          # now there are zero 'b'\n |  0\n |  \n |  >>> d = Counter('simsalabim')       # make another counter\n |  >>> c.update(d)                     # add in the second counter\n |  >>> c['a']                          # now there are nine 'a'\n |  9\n |  \n |  >>> c.clear()                       # empty the counter\n |  >>> c\n |  Counter()\n |  \n |  Note:  If a count is set to zero or reduced to zero, it will remain\n |  in the counter until the entry is deleted or the counter is cleared:\n |  \n |  >>> c = Counter('aaabbc')\n |  >>> c['b'] -= 2                     # reduce the count of 'b' by two\n |  >>> c.most_common()                 # 'b' is still in, but its count is zero\n |  [('a', 3), ('c', 1), ('b', 0)]\n |  \n |  Method resolution order:\n |      Counter\n |      builtins.dict\n |      builtins.object\n |  \n |  Methods defined here:\n |  \n |  __add__(self, other)\n |      Add counts from two counters.\n |      \n |      >>> Counter('abbb') + Counter('bcc')\n |      Counter({'b': 4, 'c': 2, 'a': 1})\n |  \n |  __and__(self, other)\n |      Intersection is the minimum of corresponding counts.\n |      \n |      >>> Counter('abbb') & Counter('bcc')\n |      Counter({'b': 1})\n |  \n |  __delitem__(self, elem)\n |      Like dict.__delitem__() but does not raise KeyError for missing values.\n |  \n |  __iadd__(self, other)\n |      Inplace add from another counter, keeping only positive counts.\n |      \n |      >>> c = Counter('abbb')\n |      >>> c += Counter('bcc')\n |      >>> c\n |      Counter({'b': 4, 'c': 2, 'a': 1})\n |  \n |  __iand__(self, other)\n |      Inplace intersection is the minimum of corresponding counts.\n |      \n |      >>> c = Counter('abbb')\n |      >>> c &= Counter('bcc')\n |      >>> c\n |      Counter({'b': 1})\n |  \n |  __init__(*args, **kwds)\n |      Create a new, empty Counter object.  And if given, count elements\n |      from an input iterable.  Or, initialize the count from another mapping\n |      of elements to their counts.\n |      \n |      >>> c = Counter()                           # a new, empty counter\n |      >>> c = Counter('gallahad')                 # a new counter from an iterable\n |      >>> c = Counter({'a': 4, 'b': 2})           # a new counter from a mapping\n |      >>> c = Counter(a=4, b=2)                   # a new counter from keyword args\n |  \n |  __ior__(self, other)\n |      Inplace union is the maximum of value from either counter.\n |      \n |      >>> c = Counter('abbb')\n |      >>> c |= Counter('bcc')\n |      >>> c\n |      Counter({'b': 3, 'c': 2, 'a': 1})\n |  \n |  __isub__(self, other)\n |      Inplace subtract counter, but keep only results with positive counts.\n |      \n |      >>> c = Counter('abbbc')\n |      >>> c -= Counter('bccd')\n |      >>> c\n |      Counter({'b': 2, 'a': 1})\n |  \n |  __missing__(self, key)\n |      The count of elements not in the Counter is zero.\n |  \n |  __neg__(self)\n |      Subtracts from an empty counter.  Strips positive and zero counts,\n |      and flips the sign on negative counts.\n |  \n |  __or__(self, other)\n |      Union is the maximum of value in either of the input counters.\n |      \n |      >>> Counter('abbb') | Counter('bcc')\n |      Counter({'b': 3, 'c': 2, 'a': 1})\n |  \n |  __pos__(self)\n |      Adds an empty counter, effectively stripping negative and zero counts\n |  \n |  __reduce__(self)\n |      Helper for pickle.\n |  \n |  __repr__(self)\n |      Return repr(self).\n |  \n |  __sub__(self, other)\n |      Subtract count, but keep only results with positive counts.\n |      \n |      >>> Counter('abbbc') - Counter('bccd')\n |      Counter({'b': 2, 'a': 1})\n |  \n |  copy(self)\n |      Return a shallow copy.\n |  \n |  elements(self)\n |      Iterator over elements repeating each as many times as its count.\n |      \n |      >>> c = Counter('ABCABC')\n |      >>> sorted(c.elements())\n |      ['A', 'A', 'B', 'B', 'C', 'C']\n |      \n |      # Knuth's example for prime factors of 1836:  2**2 * 3**3 * 17**1\n |      >>> prime_factors = Counter({2: 2, 3: 3, 17: 1})\n |      >>> product = 1\n |      >>> for factor in prime_factors.elements():     # loop over factors\n |      ...     product *= factor                       # and multiply them\n |      >>> product\n |      1836\n |      \n |      Note, if an element's count has been set to zero or is a negative\n |      number, elements() will ignore it.\n |  \n |  most_common(self, n=None)\n |      List the n most common elements and their counts from the most\n |      common to the least.  If n is None, then list all element counts.\n |      \n |      >>> Counter('abcdeabcdabcaba').most_common(3)\n |      [('a', 5), ('b', 4), ('c', 3)]\n |  \n |  subtract(*args, **kwds)\n |      Like dict.update() but subtracts counts instead of replacing them.\n |      Counts can be reduced below zero.  Both the inputs and outputs are\n |      allowed to contain zero and negative counts.\n |      \n |      Source can be an iterable, a dictionary, or another Counter instance.\n |      \n |      >>> c = Counter('which')\n |      >>> c.subtract('witch')             # subtract elements from another iterable\n |      >>> c.subtract(Counter('watch'))    # subtract elements from another counter\n |      >>> c['h']                          # 2 in which, minus 1 in witch, minus 1 in watch\n |      0\n |      >>> c['w']                          # 1 in which, minus 1 in witch, minus 1 in watch\n |      -1\n |  \n |  update(*args, **kwds)\n |      Like dict.update() but add counts instead of replacing them.\n |      \n |      Source can be an iterable, a dictionary, or another Counter instance.\n |      \n |      >>> c = Counter('which')\n |      >>> c.update('witch')           # add elements from another iterable\n |      >>> d = Counter('watch')\n |      >>> c.update(d)                 # add elements from another counter\n |      >>> c['h']                      # four 'h' in which, witch, and watch\n |      4\n |  \n |  ----------------------------------------------------------------------\n |  Class methods defined here:\n |  \n |  fromkeys(iterable, v=None) from builtins.type\n |      Create a new dictionary with keys from iterable and values set to value.\n |  \n |  ----------------------------------------------------------------------\n |  Data descriptors defined here:\n |  \n |  __dict__\n |      dictionary for instance variables (if defined)\n |  \n |  __weakref__\n |      list of weak references to the object (if defined)\n |  \n |  ----------------------------------------------------------------------\n |  Methods inherited from builtins.dict:\n |  \n |  __contains__(self, key, /)\n |      True if the dictionary has the specified key, else False.\n |  \n |  __eq__(self, value, /)\n |      Return self==value.\n |  \n |  __ge__(self, value, /)\n |      Return self>=value.\n |  \n |  __getattribute__(self, name, /)\n |      Return getattr(self, name).\n |  \n |  __getitem__(...)\n |      x.__getitem__(y) <==> x[y]\n |  \n |  __gt__(self, value, /)\n |      Return self>value.\n |  \n |  __iter__(self, /)\n |      Implement iter(self).\n |  \n |  __le__(self, value, /)\n |      Return self<=value.\n |  \n |  __len__(self, /)\n |      Return len(self).\n |  \n |  __lt__(self, value, /)\n |      Return self<value.\n |  \n |  __ne__(self, value, /)\n |      Return self!=value.\n |  \n |  __setitem__(self, key, value, /)\n |      Set self[key] to value.\n |  \n |  __sizeof__(...)\n |      D.__sizeof__() -> size of D in memory, in bytes\n |  \n |  clear(...)\n |      D.clear() -> None.  Remove all items from D.\n |  \n |  get(self, key, default=None, /)\n |      Return the value for key if key is in the dictionary, else default.\n |  \n |  items(...)\n |      D.items() -> a set-like object providing a view on D's items\n |  \n |  keys(...)\n |      D.keys() -> a set-like object providing a view on D's keys\n |  \n |  pop(...)\n |      D.pop(k[,d]) -> v, remove specified key and return the corresponding value.\n |      If key is not found, d is returned if given, otherwise KeyError is raised\n |  \n |  popitem(...)\n |      D.popitem() -> (k, v), remove and return some (key, value) pair as a\n |      2-tuple; but raise KeyError if D is empty.\n |  \n |  setdefault(self, key, default=None, /)\n |      Insert key with a value of default if key is not in the dictionary.\n |      \n |      Return the value for key if key is in the dictionary, else default.\n |  \n |  values(...)\n |      D.values() -> an object providing a view on D's values\n |  \n |  ----------------------------------------------------------------------\n |  Static methods inherited from builtins.dict:\n |  \n |  __new__(*args, **kwargs) from builtins.type\n |      Create and return a new object.  See help(type) for accurate signature.\n |  \n |  ----------------------------------------------------------------------\n |  Data and other attributes inherited from builtins.dict:\n |  \n |  __hash__ = None\n\n"
    }
   ],
   "source": [
    "from collections import Counter\n",
    "molly = Counter()\n",
    "help(Counter)"
   ]
  },
  {
   "cell_type": "code",
   "execution_count": 15,
   "metadata": {
    "tags": []
   },
   "outputs": [
    {
     "output_type": "stream",
     "name": "stdout",
     "text": "{'I do ': Counter({'like ': 2}), 'do not ': Counter(), 'not like ': Counter(), 'like green ': Counter(), 'green eggs ': Counter(), 'eggs and ': Counter(), 'and ham,\\n': Counter(), 'ham,\\nI ': Counter(), 'like them, ': Counter(), 'them, Sam-I-Am!\\n': Counter(), 'Sam-I-Am!\\nI ': Counter(), 'like them ': Counter(), 'them with ': Counter(), 'with a ': Counter(), 'a fox,\\n': Counter(), 'fox,\\nI ': Counter(), 'them in ': Counter(), 'in a ': Counter(), 'a box.\\n': Counter(), 'box.\\nI ': Counter(), 'them here ': Counter(), 'here or ': Counter(), 'or there,\\n': Counter(), 'there,\\nI ': Counter(), 'them anywhere!\\n': Counter(), 'anywhere!\\nI ': Counter(), 'them, Sam-I-Am,\\n': Counter(), 'Sam-I-Am,\\nI ': Counter()}\n0\n"
    }
   ],
   "source": [
    "import re\n",
    "phrase_dict = {}\n",
    "text_list = re.findall(r'\\S+\\s+|\\S+', SamIAm)\n",
    "for p in range(len(text_list) - 2):\n",
    "    phrase = text_list[p] + text_list[p+1]\n",
    "    phrase_dict[phrase] = Counter()\n",
    "phrase_dict['I do ']['like '] += 1\n",
    "phrase_dict['I do ']['like '] += 1\n",
    "print(phrase_dict)\n",
    "print(phrase_dict['I do ']['not '])"
   ]
  },
  {
   "cell_type": "code",
   "execution_count": 22,
   "metadata": {
    "tags": []
   },
   "outputs": [
    {
     "output_type": "stream",
     "name": "stdout",
     "text": "['I ', 'do ', 'not ', 'like ', 'green ', 'eggs ', 'and ', 'ham,\\n', 'I ', 'do ', 'not ', 'like ', 'them, ', 'Sam-I-Am!\\n', 'I ', 'do ', 'not ', 'like ', 'them ', 'with ', 'a ', 'fox,\\n', 'I ', 'do ', 'not ', 'like ', 'them ', 'in ', 'a ', 'box.\\n', 'I ', 'do ', 'not ', 'like ', 'them ', 'here ', 'or ', 'there,\\n', 'I ', 'do ', 'not ', 'like ', 'them ', 'anywhere!\\n', 'I ', 'do ', 'not ', 'like ', 'them, ', 'Sam-I-Am,\\n', 'I ', 'do ', 'not ', 'like ', 'green ', 'eggs ', 'and ', 'ham!']\n{'I do ': {'not ': 8}, 'do not ': {'like ': 8}, 'not like ': {'green ': 2, 'them, ': 2, 'them ': 4}, 'like green ': {'eggs ': 2}, 'green eggs ': {'and ': 2}, 'eggs and ': {'ham,\\n': 1, 'ham!': 1}, 'and ham,\\n': {'I ': 1}, 'ham,\\nI ': {'do ': 1}, 'like them, ': {'Sam-I-Am!\\n': 1, 'Sam-I-Am,\\n': 1}, 'them, Sam-I-Am!\\n': {'I ': 1}, 'Sam-I-Am!\\nI ': {'do ': 1}, 'like them ': {'with ': 1, 'in ': 1, 'here ': 1, 'anywhere!\\n': 1}, 'them with ': {'a ': 1}, 'with a ': {'fox,\\n': 1}, 'a fox,\\n': {'I ': 1}, 'fox,\\nI ': {'do ': 1}, 'them in ': {'a ': 1}, 'in a ': {'box.\\n': 1}, 'a box.\\n': {'I ': 1}, 'box.\\nI ': {'do ': 1}, 'them here ': {'or ': 1}, 'here or ': {'there,\\n': 1}, 'or there,\\n': {'I ': 1}, 'there,\\nI ': {'do ': 1}, 'them anywhere!\\n': {'I ': 1}, 'anywhere!\\nI ': {'do ': 1}, 'them, Sam-I-Am,\\n': {'I ': 1}, 'Sam-I-Am,\\nI ': {'do ': 1}}\n"
    }
   ],
   "source": [
    "phrase_dict = {}\n",
    "# break up text into a list of words, w/ punctuation and spaces attached\n",
    "# text_list = re.findall(r'\\S+\\s+', text)\n",
    "text_list = re.findall(r'\\S+\\s+|\\S+', SamIAm)\n",
    "for word in text_list:\n",
    "    word = 2\n",
    "print(text_list)\n",
    "# for each word in text, except for the last two\n",
    "    # since they won't have a following word\n",
    "for p in range(len(text_list) - 2):\n",
    "#     take the word and next word in sequence\n",
    "    phrase = text_list[p] + text_list[p+1]\n",
    "    if phrase not in phrase_dict:\n",
    "        phrase_dict[phrase] = dict()\n",
    "    #     for each matched instance of that sequence in text:\n",
    "        for q in range(len(text_list) - 2):\n",
    "    #         store the following word after each match of the sequence\n",
    "            if phrase == text_list[q] + text_list[q+1]:\n",
    "                if text_list[q+2] not in phrase_dict[phrase]:\n",
    "                    phrase_dict[phrase][text_list[q+2]] = 1\n",
    "                else:\n",
    "                    phrase_dict[phrase][text_list[q+2]] += 1\n",
    "print(phrase_dict)"
   ]
  },
  {
   "cell_type": "code",
   "execution_count": 25,
   "metadata": {
    "tags": []
   },
   "outputs": [
    {
     "output_type": "stream",
     "name": "stdout",
     "text": "[9, 9, 9, 9]\n"
    }
   ],
   "source": [
    "stephanie = [1,2,3,4]\n",
    "for r in range(len(stephanie)):\n",
    "    # print(each)\n",
    "    stephanie[r] = 9\n",
    "    # each = 9\n",
    "print(stephanie)"
   ]
  },
  {
   "cell_type": "code",
   "execution_count": 59,
   "metadata": {
    "tags": []
   },
   "outputs": [
    {
     "output_type": "stream",
     "name": "stdout",
     "text": "I do : not (8) \ndo not : like (8) \nnot like : green (2) them, (2) them (4) \nlike green : eggs (2) \ngreen eggs : and (2) \neggs and : ham, (1) ham!(1) \nand ham, : I (1) \nham, I : do (1) \nlike them, : Sam-I-Am! (1) Sam-I-Am, (1) \nthem, Sam-I-Am! : I (1) \nSam-I-Am! I : do (1) \nlike them : with (1) in (1) here (1) anywhere! (1) \nthem with : a (1) \nwith a : fox, (1) \na fox, : I (1) \nfox, I : do (1) \nthem in : a (1) \nin a : box. (1) \na box. : I (1) \nbox. I : do (1) \nthem here : or (1) \nhere or : there, (1) \nor there, : I (1) \nthere, I : do (1) \nthem anywhere! : I (1) \nanywhere! I : do (1) \nthem, Sam-I-Am, : I (1) \nSam-I-Am, I : do (1) \n\n"
    }
   ],
   "source": [
    "phrase_dict = {}\n",
    "# break up text into a list of words, w/ punctuation and spaces attached\n",
    "# text_list = re.findall(r'\\S+\\s+', text)\n",
    "text_list = re.findall(r'\\S+\\s+|\\S+', SamIAm)\n",
    "# substitutes /n with a space\n",
    "for n in range(len(text_list)):\n",
    "    text_list[n] = re.sub('\\n', ' ', text_list[n])\n",
    "# for each word in text, except for the last two\n",
    "    # since they won't have a following word\n",
    "for p in range(len(text_list) - 2):\n",
    "#     take the word and next word in sequence\n",
    "    phrase = text_list[p] + text_list[p+1]\n",
    "    if phrase not in phrase_dict:\n",
    "        phrase_dict[phrase] = dict()\n",
    "    #     for each matched instance of that sequence in text:\n",
    "        for q in range(len(text_list) - 2):\n",
    "    #         store the following word after each match of the sequence\n",
    "            if phrase == text_list[q] + text_list[q+1]:\n",
    "                if text_list[q+2] not in phrase_dict[phrase]:\n",
    "                    phrase_dict[phrase][text_list[q+2]] = 1\n",
    "                else:\n",
    "                    phrase_dict[phrase][text_list[q+2]] += 1\n",
    "# print(phrase_dict)\n",
    "frequency = \"\"\n",
    "# line = \"\"\n",
    "for each in phrase_dict:\n",
    "    # line = \"\"\n",
    "    # print(\"key: \" + each)\n",
    "    line = each + \": \"\n",
    "    # print(line)\n",
    "    # values = \"\"\n",
    "    for every in phrase_dict[each]:\n",
    "        # print(\"value: \" + every)\n",
    "        # print(phrase_dict[each][every])\n",
    "        line = line + every + \"(\" + str(phrase_dict[each][every]) + \") \"\n",
    "    # print(\"New line: \\n\" + line)\n",
    "    frequency = frequency + line + \"\\n\"\n",
    "    # print(each)\n",
    "print(frequency)"
   ]
  },
  {
   "cell_type": "code",
   "execution_count": 65,
   "metadata": {
    "tags": []
   },
   "outputs": [
    {
     "output_type": "stream",
     "name": "stdout",
     "text": "I do : not (8) \ndo not : like (8) \nnot like : green (2) them, (2) them (4) \nlike green : eggs (2) \ngreen eggs : and (2) \neggs and : ham, (1) ham!(1) \nand ham, : I (1) \nham, I : do (1) \nlike them, : Sam-I-Am! (1) Sam-I-Am, (1) \nthem, Sam-I-Am! : I (1) \nSam-I-Am! I : do (1) \nlike them : with (1) in (1) here (1) anywhere! (1) \nthem with : a (1) \nwith a : fox, (1) \na fox, : I (1) \nfox, I : do (1) \nthem in : a (1) \nin a : box. (1) \na box. : I (1) \nbox. I : do (1) \nthem here : or (1) \nhere or : there, (1) \nor there, : I (1) \nthere, I : do (1) \nthem anywhere! : I (1) \nanywhere! I : do (1) \nthem, Sam-I-Am, : I (1) \nSam-I-Am, I : do (1) \n\n"
    }
   ],
   "source": [
    "import re\n",
    "\n",
    "def bigram_frequency_analyzer(text):\n",
    "    # take text as argument\n",
    "    # make a dict for {sequence : [following (count), ...]}\n",
    "    phrase_dict = {}\n",
    "    # break up text into a list of words, w/ punctuation and spaces attached\n",
    "    # text_list = re.findall(r'\\S+\\s+', text)\n",
    "    text_list = re.findall(r'\\S+\\s+|\\S+', text)\n",
    "    # substitutes /n with a space\n",
    "    for n in range(len(text_list)):\n",
    "        text_list[n] = re.sub('\\n', ' ', text_list[n])\n",
    "    # for each word in text, except for the last two\n",
    "        # since they won't have a following word\n",
    "    for p in range(len(text_list) - 2):\n",
    "    #     take the word and next word in sequence\n",
    "        phrase = text_list[p] + text_list[p+1]\n",
    "        if phrase not in phrase_dict:\n",
    "            phrase_dict[phrase] = dict()\n",
    "        #     for each matched instance of that sequence in text:\n",
    "            for q in range(len(text_list) - 2):\n",
    "        #         store the following word after each match of the sequence\n",
    "                if phrase == text_list[q] + text_list[q+1]:\n",
    "                    if text_list[q+2] not in phrase_dict[phrase]:\n",
    "                        phrase_dict[phrase][text_list[q+2]] = 1\n",
    "                    else:\n",
    "                        phrase_dict[phrase][text_list[q+2]] += 1\n",
    "    # print(phrase_dict)\n",
    "    frequency = \"\"\n",
    "    # line = \"\"\n",
    "    for each in phrase_dict:\n",
    "        # line = \"\"\n",
    "        # print(\"key: \" + each)\n",
    "        line = each + \": \"\n",
    "        # print(line)\n",
    "        # values = \"\"\n",
    "        for every in phrase_dict[each]:\n",
    "            # print(\"value: \" + every)\n",
    "            # print(phrase_dict[each][every])\n",
    "            line = line + every + \"(\" + str(phrase_dict[each][every]) + \") \"\n",
    "        # print(\"New line: \\n\" + line)\n",
    "        frequency = frequency + line + \"\\n\"\n",
    "        # print(each)\n",
    "    # print(frequency)\n",
    "    return frequency\n",
    "\n",
    "print(bigram_frequency_analyzer(SamIAm))"
   ]
  },
  {
   "cell_type": "code",
   "execution_count": 93,
   "metadata": {
    "tags": []
   },
   "outputs": [
    {
     "output_type": "stream",
     "name": "stdout",
     "text": "a 11\nand 2\nanywhere 1\nbox 1\ndo 8\neggs 2\nfox 1\ngreen 2\nham 2\nhere 3\ni 20\nin 1\nlike 8\nnot 8\nor 1\nsam-i-am 2\nthem 6\nthere 1\nwith 1\n\n"
    }
   ],
   "source": [
    "SamIAm = '''I do not like green eggs and ham,\n",
    "I do not like them, Sam-I-Am!\n",
    "I do not like them with a fox,\n",
    "I do not like them in a box.\n",
    "I do not like them here or there,\n",
    "I do not like them anywhere!\n",
    "I do not like them, Sam-I-Am,\n",
    "I do not like green eggs and ham!'''\n",
    "\n",
    "from collections import Counter\n",
    "\n",
    "def count_words(text):\n",
    "    text_list = []\n",
    "    text_to_list(text, text_list)\n",
    "    text_list.sort()\n",
    "    counts = Counter()\n",
    "    for word in text_list:\n",
    "        if word not in counts:\n",
    "            counts[word] = sum(1 for z in re.finditer(word, text, re.IGNORECASE))\n",
    "    output = \"\"\n",
    "    for key in counts:\n",
    "        output = output + key + \" \" + str(counts[key]) + \"\\n\"\n",
    "    return output\n",
    "\n",
    "        \n",
    "\n",
    "def text_to_list(text, text_list):\n",
    "    # break up text into a list of words, w/ punctuation \n",
    "    # and spaces attached\n",
    "    for each in re.findall(r'[-\\w]+', text):\n",
    "    # for each in re.split(r'\\s+|\\W+\\s+', text):\n",
    "        text_list.append(each.lower())\n",
    "    # substitutes /n with a space\n",
    "    for n in range(len(text_list)):\n",
    "        text_list[n] = re.sub('\\n', ' ', text_list[n])\n",
    "    return text_list\n",
    "\n",
    "\n",
    "print(count_words(SamIAm))\n",
    "\n",
    "# len(sam_object)   Does NOT work\n",
    "\n",
    "# sam_object.groups()   Does NOT work\n",
    "\n",
    "# for s in sam_object:\n",
    "#     # print(s.span())\n",
    "#     # print(s)\n",
    "#     print(s.group())\n",
    "#     # print(s.string)\n"
   ]
  },
  {
   "cell_type": "code",
   "execution_count": 137,
   "metadata": {
    "tags": []
   },
   "outputs": [
    {
     "output_type": "stream",
     "name": "stdout",
     "text": "{'WARNING': {'403': {'Forbidden': {'No token in request parameters': 1}}}, 'ERROR': {'500': {'Error': {'int is not subscriptable': 2}}}, 'INFO': {'200': {'OK': {'Login Successful': 1, 'User sent a message': 1}}}}\n"
    }
   ],
   "source": [
    "'''\n",
    "\n",
    "** pseudocode **\n",
    "\n",
    "\n",
    "\n",
    "\n",
    "'''\n",
    "\n",
    "\n",
    "test_data = [\n",
    "'[WARNING] 403 Forbidden: No token in request parameters',\n",
    "'[ERROR] 500 Server Error: int is not subscriptable',\n",
    "'[INFO] 200 OK: Login Successful',\n",
    "'[INFO] 200 OK: User sent a message',\n",
    "'[ERROR] 500 Server Error: int is not subscriptable'\n",
    "]\n",
    "\n",
    "\n",
    "log_dict = {}\n",
    "for log in test_data:\n",
    "    level = re.search(r'\\[(.*)\\]', log).group(1)\n",
    "    status_code = re.search(r'\\s([0-9]+)\\s', log).group(1)\n",
    "    status = re.search(r'\\s(\\w+):', log).group(1)\n",
    "    message = re.search(r':\\s(.*)', log).group(1)\n",
    "\n",
    "    if not level in log_dict:\n",
    "        log_dict[level] = {}\n",
    "\n",
    "    if not status_code in log_dict[level]:\n",
    "        log_dict[level][status_code] = {}\n",
    "\n",
    "    if not status in log_dict[level][status_code]:\n",
    "        log_dict[level][status_code][status] = {}\n",
    "\n",
    "    if not message in log_dict[level][status_code][status]:\n",
    "        log_dict[level][status_code][status][message] = 1\n",
    "    else:\n",
    "        log_dict[level][status_code][status][message] += 1\n",
    "\n",
    "\n",
    "\n",
    "\n",
    "\n",
    "    # if not have_entries:\n",
    "    #     counts = 1\n",
    "    #     log_dict[log_level] = {status_code : {status : {message : counts}}}\n",
    "    #     have_entries += 1\n",
    "    # else:\n",
    "    #     if message not in log_dict[status_code][status]:\n",
    "    #         counts = 1\n",
    "    #     else:\n",
    "    #         counts += 1\n",
    "    #     log_dict[log_level] = {status_code : {status : {message : counts}}}\n",
    "\n",
    "\n",
    "    \n",
    "    # if message not in log_dict[log_level][status_code][status]:\n",
    "    #     counts = 0\n",
    "    # else:\n",
    "    #     counts += 1\n",
    "\n",
    "\n",
    "    # print(type(exception))\n",
    "    # log_dict[log_level] = 1\n",
    "    \n",
    "    # print(log_dict[re.search(r'\\[(.*)\\]', log).group(1))] = {re.search(r'\\s([0-9]+)\\s', log).group(1) = dict(re.search(r'\\s(\\w+):', log).group(1) = Counter(re.search(r':\\s(.*)', log).group(1)))))\n",
    "\n",
    "print(log_dict)\n"
   ]
  },
  {
   "cell_type": "code",
   "execution_count": 140,
   "metadata": {},
   "outputs": [
    {
     "output_type": "execute_result",
     "data": {
      "text/plain": "'Server Error'"
     },
     "metadata": {},
     "execution_count": 140
    }
   ],
   "source": [
    "error = '[ERROR] 500 Server Error: int is not subscriptable'\n",
    "re.search(r'[0-9]+\\s(.+):', error).group(1)"
   ]
  },
  {
   "cell_type": "code",
   "execution_count": 121,
   "metadata": {
    "tags": []
   },
   "outputs": [
    {
     "output_type": "stream",
     "name": "stdout",
     "text": "{}\n"
    }
   ],
   "source": [
    "log_dict = dict(dict(dict(dict())))\n",
    "print(log_dict)"
   ]
  },
  {
   "cell_type": "code",
   "execution_count": 122,
   "metadata": {},
   "outputs": [],
   "source": [
    "level = '[WARNING]'\n",
    "status_code = '403' \n",
    "status = 'Forbidden'\n",
    "message = 'No token in request parameters'\n",
    "count = 1"
   ]
  },
  {
   "cell_type": "code",
   "execution_count": 135,
   "metadata": {
    "tags": []
   },
   "outputs": [
    {
     "output_type": "stream",
     "name": "stdout",
     "text": "{'[WARNING]': {'403': {'Forbidden': {'No token in request parameters': 1}}}}\n"
    }
   ],
   "source": [
    "log_dict[level] = {status_code : {status : {}}}\n",
    "if not message in log_dict[level][status_code][status]:\n",
    "    log_dict[level][status_code][status][message] = 1\n",
    "else:\n",
    "    log_dict[level][status_code][status][message] += 1\n",
    "print(log_dict)"
   ]
  },
  {
   "cell_type": "code",
   "execution_count": 131,
   "metadata": {},
   "outputs": [
    {
     "output_type": "execute_result",
     "data": {
      "text/plain": "True"
     },
     "metadata": {},
     "execution_count": 131
    }
   ],
   "source": [
    "log_dict[level] = {status_code : {status : {message : count}}}\n",
    "message in log_dict[level][status_code][status]"
   ]
  },
  {
   "cell_type": "code",
   "execution_count": 130,
   "metadata": {
    "tags": []
   },
   "outputs": [
    {
     "output_type": "stream",
     "name": "stdout",
     "text": "{'[WARNING]': {'403': {'Forbidden': {'No token in request parameters': 1}}}}\n"
    }
   ],
   "source": [
    "print(log_dict)"
   ]
  },
  {
   "cell_type": "code",
   "execution_count": 147,
   "metadata": {},
   "outputs": [
    {
     "output_type": "execute_result",
     "data": {
      "text/plain": "'20jfcf02341kwd'"
     },
     "metadata": {},
     "execution_count": 147
    }
   ],
   "source": [
    "rating = {\"movie_id\": \"20jfcf02341kwd\",\"user_id\": \"923874rksd9293\", \"rating\": 5\n",
    "}\n",
    "\n",
    "rating['movie_id']"
   ]
  },
  {
   "cell_type": "code",
   "execution_count": 149,
   "metadata": {},
   "outputs": [
    {
     "output_type": "execute_result",
     "data": {
      "text/plain": "'123'"
     },
     "metadata": {},
     "execution_count": 149
    }
   ],
   "source": [
    "ratings = [{\"movie_id\": \"20jfcf02341kwd\",\"user_id\": \"923874rksd9293\", \"rating\": 5} , {\"movie_id\" : \"123\", \"user_id\": \"456\"}]\n",
    "ratings[1]['movie_id']"
   ]
  },
  {
   "cell_type": "code",
   "execution_count": 150,
   "metadata": {
    "tags": []
   },
   "outputs": [
    {
     "output_type": "stream",
     "name": "stdout",
     "text": "Counter({'entry': 43})\n"
    }
   ],
   "source": [
    "from collections import Counter\n",
    "math_check = Counter()\n",
    "math_check['entry'] += 43\n",
    "print(math_check)"
   ]
  },
  {
   "cell_type": "code",
   "execution_count": 200,
   "metadata": {},
   "outputs": [],
   "source": [
    "users = [{'id': \"923874rksd9293\"}]\n",
    "\n",
    "movie_ratings = [\n",
    "  {'movie_id': \"20jfcf02341kwd\",'user_id': \"923874rksd9293\", 'rating': 5\n",
    "  },\n",
    "  {'movie_id': \"2\",'user_id': \"923874rksd9293\", 'rating': 3\n",
    "  },\n",
    "]\n",
    "\n",
    "\n",
    "'''\n",
    "  {'movie_id': \"20jfcf02341kwd\",'user_id': \"923874rksd9293\", 'rating': 3\n",
    "  },\n",
    "  {'movie_id': \"2\",'user_id': \"923874rksd9293\", 'rating': 1\n",
    "  }\n",
    "  '''\n",
    "  \n",
    "movies = [\n",
    "  {\n",
    "     \"id\": \"20jfcf02341kwd\",\n",
    "     \"genre\": \"animated\"\n",
    "  },\n",
    "  {\n",
    "     \"id\": \"2\",\n",
    "     \"genre\": \"animated\"\n",
    "  }\n",
    "]\n"
   ]
  },
  {
   "cell_type": "code",
   "execution_count": 201,
   "metadata": {},
   "outputs": [
    {
     "output_type": "execute_result",
     "data": {
      "text/plain": "'923874rksd9293'"
     },
     "metadata": {},
     "execution_count": 201
    }
   ],
   "source": [
    "movie_ratings[0]['user_id']"
   ]
  },
  {
   "cell_type": "code",
   "execution_count": 202,
   "metadata": {},
   "outputs": [],
   "source": [
    "def create_movie_ratings(user, movie_ratings):\n",
    "    '''Return a dictionary with a particular user's movie ratings.'''\n",
    "    users_movies = {}\n",
    "    for movie in movie_ratings:\n",
    "        # print(user['id'])\n",
    "        # print(movie)  `\n",
    "        # print(type(movie))\n",
    "        # print(movie['user_id'])\n",
    "        if user['id'] == movie['user_id']:\n",
    "            ## TODO : THIS DICTIONARY MUST APPEAR IN FORMAT:\n",
    "            ## {'movie_id': 12345, 'rating': 100}\n",
    "            # users_movies.append({'movie_id': movie['movie_id'], 'rating': movie['rating']})\n",
    "            if movie['movie_id'] not in users_movies:\n",
    "                users_movies[movie['movie_id']] = movie['rating']\n",
    "\n",
    "    return users_movies"
   ]
  },
  {
   "cell_type": "code",
   "execution_count": null,
   "metadata": {},
   "outputs": [],
   "source": []
  },
  {
   "cell_type": "code",
   "execution_count": 207,
   "metadata": {
    "tags": []
   },
   "outputs": [
    {
     "output_type": "stream",
     "name": "stdout",
     "text": "{'id': '923874rksd9293'}\n923874rksd9293\n{'20jfcf02341kwd': 5, '2': 3}\n"
    }
   ],
   "source": [
    "for user in users:\n",
    "    print(user)\n",
    "    print(user['id'])\n",
    "\n",
    "    users_ratings = create_movie_ratings(user, movie_ratings)\n",
    "    print(users_movies)"
   ]
  },
  {
   "cell_type": "code",
   "execution_count": 232,
   "metadata": {},
   "outputs": [],
   "source": [
    "def aggregate_users_ratings(users_ratings, movies):\n",
    "    movies_length = len(movies)\n",
    "    # print(movies_length)\n",
    "    genre_scores = {}\n",
    "    for key in users_ratings:\n",
    "        # print(key)\n",
    "        found = False\n",
    "        index = 0\n",
    "        while not found and index < movies_length:\n",
    "            if key == movies[index]['id']:\n",
    "                found = True\n",
    "                # print(found)\n",
    "                # print(key)\n",
    "                if movies[index]['genre'] not in genre_scores:\n",
    "                    genre_scores[movies[index]['genre']] = [users_ratings[key], 1]\n",
    "                    # print(genre_scores)\n",
    "                else:\n",
    "                    genre_scores[movies[index]['genre']][0] += users_ratings[key]\n",
    "                    genre_scores[movies[index]['genre']][1] += 1\n",
    "            else:\n",
    "                index += 1\n",
    "                # print(found)\n",
    "    \n",
    "    return genre_scores\n"
   ]
  },
  {
   "cell_type": "code",
   "execution_count": 237,
   "metadata": {
    "tags": []
   },
   "outputs": [
    {
     "output_type": "stream",
     "name": "stdout",
     "text": "{'animated': [8, 2]}\n"
    }
   ],
   "source": [
    "print(aggregate_users_ratings(users_ratings, movies))\n",
    "genre_scores = aggregate_users_ratings(users_ratings, movies)"
   ]
  },
  {
   "cell_type": "code",
   "execution_count": 240,
   "metadata": {},
   "outputs": [],
   "source": [
    "def find_favorite(genre_scores):\n",
    "    # genre_averages = \n",
    "    high_score = 0\n",
    "    favorite = ''\n",
    "    for key in genre_scores:\n",
    "        average = genre_scores[key][0] / genre_scores[key][1]\n",
    "        # genre_scores[key].append(genre_scores[key][0] / genre_scores[key][1])\n",
    "        if average > high_score:\n",
    "            high_score = average\n",
    "            favorite = key\n",
    "\n",
    "    return favorite\n",
    "    \n",
    "    # print(genre_scores)\n",
    "    "
   ]
  },
  {
   "cell_type": "code",
   "execution_count": 245,
   "metadata": {
    "tags": []
   },
   "outputs": [
    {
     "output_type": "stream",
     "name": "stdout",
     "text": "animated\n"
    }
   ],
   "source": [
    "favorite = find_favorite(genre_scores)\n",
    "print(favorite)"
   ]
  },
  {
   "cell_type": "code",
   "execution_count": 247,
   "metadata": {},
   "outputs": [],
   "source": [
    "def append_favorite(user, favorite, users_favorites):\n",
    "    user_fave = {'id': user['id'], 'favorite_genre': favorite}\n",
    "    users_favorites.append(user_fave)"
   ]
  },
  {
   "cell_type": "code",
   "execution_count": 248,
   "metadata": {
    "tags": []
   },
   "outputs": [
    {
     "output_type": "stream",
     "name": "stdout",
     "text": "[{'id': '923874rksd9293', 'favorite_genre': 'animated'}]\n"
    }
   ],
   "source": [
    "users_favorites = []\n",
    "for user in users:\n",
    "    append_favorite(user, favorite, users_favorites)\n",
    "print(users_favorites)"
   ]
  },
  {
   "cell_type": "code",
   "execution_count": 223,
   "metadata": {
    "tags": []
   },
   "outputs": [
    {
     "output_type": "stream",
     "name": "stdout",
     "text": "True\nFalse\nFalse\nTrue\n"
    }
   ],
   "source": [
    "for key in users_ratings:\n",
    "    for entry in movies:\n",
    "        print(key == entry['id'])\n"
   ]
  },
  {
   "cell_type": "code",
   "execution_count": null,
   "metadata": {},
   "outputs": [],
   "source": []
  },
  {
   "cell_type": "code",
   "execution_count": null,
   "metadata": {},
   "outputs": [],
   "source": [
    "\n",
    "\n",
    "            users_averages = {}\n",
    "    for key in users_movies:\n",
    "        users_averages[key] = users_movies[key][0] / users_movies[key][1]"
   ]
  },
  {
   "cell_type": "code",
   "execution_count": null,
   "metadata": {},
   "outputs": [],
   "source": []
  },
  {
   "cell_type": "code",
   "execution_count": null,
   "metadata": {},
   "outputs": [],
   "source": [
    "''' \n",
    "users_movies = [{'movie_id': '20jfcf02341kwd', 'rating': 5}] \n",
    "\n",
    "genre_scores = [{\"animated\": \"total_score\", 5, \"counts\": 1}]\n",
    "'''\n",
    "\n",
    "def aggregate_genre_scores(users_movies, movies):\n",
    "    movies_length = len(movies)\n",
    "    #     make an empty {genre : [total, counts]} list\n",
    "    genre_scores = []\n",
    "#     for each {movies : score}:\n",
    "    for user_movie in users_movies:\n",
    "#         find movie genre\n",
    "        found = False\n",
    "        index = 0\n",
    "        while not found and index < movies_length:\n",
    "            if movies[index]['id'] == user_movie['movie_id']\n",
    "                genre = movies[index]['genre']\n",
    "                found = True\n",
    "            else:\n",
    "                index += 1\n",
    "        \n",
    "#         add movie score to total for that genre\n",
    "        if \n",
    "        genre_scores[genre] += user_movie['rating']\n",
    "#         tally counts of scores for that genre\n",
    "        genre_scores[]\n",
    "#         add to {genre : [total, counts]}"
   ]
  },
  {
   "cell_type": "code",
   "execution_count": 165,
   "metadata": {
    "tags": []
   },
   "outputs": [
    {
     "output_type": "stream",
     "name": "stdout",
     "text": "{'id': '20jfcf02341kwd', 'genre': 'animated'}\n20jfcf02341kwd\n"
    }
   ],
   "source": [
    "print(movies[0])\n",
    "genre = movies[0]\n",
    "print(genre['id'])"
   ]
  }
 ]
}