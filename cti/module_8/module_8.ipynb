{
 "metadata": {
  "language_info": {
   "codemirror_mode": {
    "name": "ipython",
    "version": 3
   },
   "file_extension": ".py",
   "mimetype": "text/x-python",
   "name": "python",
   "nbconvert_exporter": "python",
   "pygments_lexer": "ipython3",
   "version": "3.7.6-final"
  },
  "orig_nbformat": 2,
  "kernelspec": {
   "name": "python37664bit1965629d64904bc8bfed23b2816a8fbf",
   "display_name": "Python 3.7.6 64-bit"
  }
 },
 "nbformat": 4,
 "nbformat_minor": 2,
 "cells": [
  {
   "cell_type": "code",
   "execution_count": 112,
   "metadata": {},
   "outputs": [
    {
     "output_type": "execute_result",
     "data": {
      "text/plain": "['I ',\n 'do ',\n 'not ',\n 'like ',\n 'green ',\n 'eggs ',\n 'and ',\n 'ham,\\n',\n 'I ',\n 'do ',\n 'not ',\n 'like ',\n 'them, ',\n 'Sam-I-Am!\\n',\n 'I ',\n 'do ',\n 'not ',\n 'like ',\n 'them ',\n 'with ',\n 'a ',\n 'fox,\\n',\n 'I ',\n 'do ',\n 'not ',\n 'like ',\n 'them ',\n 'in ',\n 'a ',\n 'box.\\n',\n 'I ',\n 'do ',\n 'not ',\n 'like ',\n 'them ',\n 'here ',\n 'or ',\n 'there,\\n',\n 'I ',\n 'do ',\n 'not ',\n 'like ',\n 'them ',\n 'anywhere!\\n',\n 'I ',\n 'do ',\n 'not ',\n 'like ',\n 'them, ',\n 'Sam-I-Am,\\n',\n 'I ',\n 'do ',\n 'not ',\n 'like ',\n 'green ',\n 'eggs ',\n 'and ',\n 'ham!']"
     },
     "metadata": {},
     "execution_count": 112
    }
   ],
   "source": [
    "import re\n",
    "\n",
    "SamIAm = '''I do not like green eggs and ham,\n",
    "I do not like them, Sam-I-Am!\n",
    "I do not like them with a fox,\n",
    "I do not like them in a box.\n",
    "I do not like them here or there,\n",
    "I do not like them anywhere!\n",
    "I do not like them, Sam-I-Am,\n",
    "I do not like green eggs and ham!'''\n",
    "\n",
    "SamIAm.split(' ')\n",
    "re.split(r'\\s', SamIAm)\n",
    "re.split(r'(\\s)', SamIAm)\n",
    "re.split(r'\\b', SamIAm)\n",
    "re.split(r'([\\w+\\W]\\s)', SamIAm)\n",
    "re.match(r'\\b', SamIAm)\n",
    "\n",
    "re.findall(r'\\S+\\s+', SamIAm)\n",
    "# other\n",
    "re.split(r'\\b', SamIAm)\n",
    "re.split(r'(\\b\\S+\\s+\\b)', SamIAm)\n",
    "# version used in bigram_frequency_analyzer.py\n",
    "re.findall(r'\\S+\\s+|\\S+', SamIAm)"
   ]
  },
  {
   "cell_type": "code",
   "execution_count": 106,
   "metadata": {},
   "outputs": [
    {
     "output_type": "execute_result",
     "data": {
      "text/plain": "['foo', '/', 'bar', ' ', 'spam', '\\n', 'eggs']"
     },
     "metadata": {},
     "execution_count": 106
    }
   ],
   "source": [
    "re.split('(\\W)', 'foo/bar spam\\neggs')\n",
    "['foo', '/', 'bar', ' ', 'spam', '\\n', 'eggs']"
   ]
  },
  {
   "cell_type": "code",
   "execution_count": 45,
   "metadata": {},
   "outputs": [],
   "source": [
    "sys.path.append('/Users/nirvanabear/Documents/code/CTI/code-horde/cti/module_3')"
   ]
  },
  {
   "cell_type": "code",
   "execution_count": 53,
   "metadata": {
    "tags": []
   },
   "outputs": [
    {
     "output_type": "stream",
     "name": "stdout",
     "text": "[2, 1, 4, 3]\n"
    }
   ],
   "source": [
    "from wave_array import *\n",
    "\n",
    "numbers1 = [1, 2, 3, 4]\n",
    "print(wave_array(numbers1))"
   ]
  },
  {
   "cell_type": "code",
   "execution_count": 49,
   "metadata": {},
   "outputs": [
    {
     "output_type": "execute_result",
     "data": {
      "text/plain": "['/Users/nirvanabear/Documents/code/CTI/code-horde/cti/module_8',\n '/private/var/folders/13/xknb65b54xd70pmy1kr9rrjr0000gn/T/b8d13c2e-fa1c-4867-82d1-cf6cadb4fdcf',\n '/Users/nirvanabear/.vscode/extensions/ms-python.python-2020.7.94776/pythonFiles',\n '/Users/nirvanabear/.vscode/extensions/ms-python.python-2020.7.94776/pythonFiles/lib/python',\n '/usr/local/opt/python/Frameworks/Python.framework/Versions/3.7/lib/python37.zip',\n '/usr/local/opt/python/Frameworks/Python.framework/Versions/3.7/lib/python3.7',\n '/usr/local/opt/python/Frameworks/Python.framework/Versions/3.7/lib/python3.7/lib-dynload',\n '',\n '/Users/nirvanabear/.local/share/virtualenvs/cti-Eja-5NCn/lib/python3.7/site-packages',\n '/Users/nirvanabear/.local/share/virtualenvs/cti-Eja-5NCn/lib/python3.7/site-packages/IPython/extensions',\n '/Users/nirvanabear/.ipython',\n '/Users/nirvanabear/Documents/code/CTI/code-horde/cti/module_3']"
     },
     "metadata": {},
     "execution_count": 49
    }
   ],
   "source": [
    "sys.path"
   ]
  },
  {
   "cell_type": "code",
   "execution_count": 54,
   "metadata": {},
   "outputs": [
    {
     "output_type": "execute_result",
     "data": {
      "text/plain": "'ham, '"
     },
     "metadata": {},
     "execution_count": 54
    }
   ],
   "source": [
    "ham = 'ham,\\n'\n",
    "re.sub('\\n', ' ', ham)"
   ]
  },
  {
   "cell_type": "code",
   "execution_count": 94,
   "metadata": {
    "tags": []
   },
   "outputs": [
    {
     "output_type": "stream",
     "name": "stdout",
     "text": "<re.Match object; span=(0, 2), match='I '>\nI \n<re.Match object; span=(2, 5), match='do '>\ndo \n<re.Match object; span=(5, 9), match='not '>\nnot \n<re.Match object; span=(9, 14), match='like '>\nlike \n<re.Match object; span=(14, 20), match='green '>\ngreen \n<re.Match object; span=(20, 25), match='eggs '>\neggs \n<re.Match object; span=(25, 29), match='and '>\nand \n<re.Match object; span=(29, 34), match='ham,\\n'>\nham,\n\n<re.Match object; span=(34, 36), match='I '>\nI \n<re.Match object; span=(36, 39), match='do '>\ndo \n<re.Match object; span=(39, 43), match='not '>\nnot \n<re.Match object; span=(43, 48), match='like '>\nlike \n<re.Match object; span=(48, 54), match='them, '>\nthem, \n<re.Match object; span=(54, 64), match='Sam-I-Am!\\n'>\nSam-I-Am!\n\n<re.Match object; span=(64, 66), match='I '>\nI \n<re.Match object; span=(66, 69), match='do '>\ndo \n<re.Match object; span=(69, 73), match='not '>\nnot \n<re.Match object; span=(73, 78), match='like '>\nlike \n<re.Match object; span=(78, 83), match='them '>\nthem \n<re.Match object; span=(83, 88), match='with '>\nwith \n<re.Match object; span=(88, 90), match='a '>\na \n<re.Match object; span=(90, 95), match='fox,\\n'>\nfox,\n\n<re.Match object; span=(95, 97), match='I '>\nI \n<re.Match object; span=(97, 100), match='do '>\ndo \n<re.Match object; span=(100, 104), match='not '>\nnot \n<re.Match object; span=(104, 109), match='like '>\nlike \n<re.Match object; span=(109, 114), match='them '>\nthem \n<re.Match object; span=(114, 117), match='in '>\nin \n<re.Match object; span=(117, 119), match='a '>\na \n<re.Match object; span=(119, 124), match='box.\\n'>\nbox.\n\n<re.Match object; span=(124, 126), match='I '>\nI \n<re.Match object; span=(126, 129), match='do '>\ndo \n<re.Match object; span=(129, 133), match='not '>\nnot \n<re.Match object; span=(133, 138), match='like '>\nlike \n<re.Match object; span=(138, 143), match='them '>\nthem \n<re.Match object; span=(143, 148), match='here '>\nhere \n<re.Match object; span=(148, 151), match='or '>\nor \n<re.Match object; span=(151, 158), match='there,\\n'>\nthere,\n\n<re.Match object; span=(158, 160), match='I '>\nI \n<re.Match object; span=(160, 163), match='do '>\ndo \n<re.Match object; span=(163, 167), match='not '>\nnot \n<re.Match object; span=(167, 172), match='like '>\nlike \n<re.Match object; span=(172, 177), match='them '>\nthem \n<re.Match object; span=(177, 187), match='anywhere!\\n'>\nanywhere!\n\n<re.Match object; span=(187, 189), match='I '>\nI \n<re.Match object; span=(189, 192), match='do '>\ndo \n<re.Match object; span=(192, 196), match='not '>\nnot \n<re.Match object; span=(196, 201), match='like '>\nlike \n<re.Match object; span=(201, 207), match='them, '>\nthem, \n<re.Match object; span=(207, 217), match='Sam-I-Am,\\n'>\nSam-I-Am,\n\n<re.Match object; span=(217, 219), match='I '>\nI \n<re.Match object; span=(219, 222), match='do '>\ndo \n<re.Match object; span=(222, 226), match='not '>\nnot \n<re.Match object; span=(226, 231), match='like '>\nlike \n<re.Match object; span=(231, 237), match='green '>\ngreen \n<re.Match object; span=(237, 242), match='eggs '>\neggs \n<re.Match object; span=(242, 246), match='and '>\nand \n"
    }
   ],
   "source": [
    "SamIAm = '''I do not like green eggs and ham,\n",
    "I do not like them, Sam-I-Am!\n",
    "I do not like them with a fox,\n",
    "I do not like them in a box.\n",
    "I do not like them here or there,\n",
    "I do not like them anywhere!\n",
    "I do not like them, Sam-I-Am,\n",
    "I do not like green eggs and ham!'''\n",
    "\n",
    "re.findall(r'\\S+\\s+', SamIAm)\n",
    "sam_object = re.search(r'\\S+\\s+', SamIAm)\n",
    "# sam_object.expand(' ')    # IDK\n",
    "sam_object.group(0)         # 'I '\n",
    "# sam_object.group(1)         # DNE\n",
    "sam_object.pos              # starting position of the original search\n",
    "sam_object.re               # the regex object used to search\n",
    "sam_object = re.finditer(r'\\S+\\s+', SamIAm)\n",
    "# for s in sam_object:\n",
    "#     print(s)\n",
    "# next(sam_object)\n",
    "\n",
    "for s in sam_object:\n",
    "    # print(s.span())\n",
    "    # print(s)\n",
    "    print(s.group())\n",
    "    # print(s.string)\n"
   ]
  },
  {
   "cell_type": "code",
   "execution_count": 89,
   "metadata": {
    "tags": []
   },
   "outputs": [
    {
     "output_type": "error",
     "ename": "AttributeError",
     "evalue": "'re.Match' object has no attribute 'match'",
     "traceback": [
      "\u001b[0;31m---------------------------------------------------------------------------\u001b[0m",
      "\u001b[0;31mAttributeError\u001b[0m                            Traceback (most recent call last)",
      "\u001b[0;32m<ipython-input-89-2aac6d530e8e>\u001b[0m in \u001b[0;36m<module>\u001b[0;34m\u001b[0m\n\u001b[1;32m      1\u001b[0m \u001b[0;32mfor\u001b[0m \u001b[0ms\u001b[0m \u001b[0;32min\u001b[0m \u001b[0msam_object\u001b[0m\u001b[0;34m:\u001b[0m\u001b[0;34m\u001b[0m\u001b[0;34m\u001b[0m\u001b[0m\n\u001b[1;32m      2\u001b[0m     \u001b[0;31m# print(s.span())\u001b[0m\u001b[0;34m\u001b[0m\u001b[0;34m\u001b[0m\u001b[0;34m\u001b[0m\u001b[0m\n\u001b[0;32m----> 3\u001b[0;31m     \u001b[0mprint\u001b[0m\u001b[0;34m(\u001b[0m\u001b[0ms\u001b[0m\u001b[0;34m.\u001b[0m\u001b[0mmatch\u001b[0m\u001b[0;34m(\u001b[0m\u001b[0;34m)\u001b[0m\u001b[0;34m)\u001b[0m\u001b[0;34m\u001b[0m\u001b[0;34m\u001b[0m\u001b[0m\n\u001b[0m\u001b[1;32m      4\u001b[0m \u001b[0;31m# next(sam_object)\u001b[0m\u001b[0;34m\u001b[0m\u001b[0;34m\u001b[0m\u001b[0;34m\u001b[0m\u001b[0m\n",
      "\u001b[0;31mAttributeError\u001b[0m: 're.Match' object has no attribute 'match'"
     ]
    }
   ],
   "source": []
  },
  {
   "cell_type": "code",
   "execution_count": 80,
   "metadata": {},
   "outputs": [
    {
     "output_type": "execute_result",
     "data": {
      "text/plain": "<list_iterator at 0x10b0cd750>"
     },
     "metadata": {},
     "execution_count": 80
    }
   ],
   "source": [
    "list_iter = [1, 2, 3, 4].__iter__()\n",
    "list_iter"
   ]
  },
  {
   "cell_type": "code",
   "execution_count": 81,
   "metadata": {
    "tags": []
   },
   "outputs": [
    {
     "output_type": "stream",
     "name": "stdout",
     "text": "1\n2\n3\n4\n"
    }
   ],
   "source": [
    "for thing in list_iter:\n",
    "    print(thing)"
   ]
  },
  {
   "cell_type": "code",
   "execution_count": 84,
   "metadata": {},
   "outputs": [
    {
     "output_type": "execute_result",
     "data": {
      "text/plain": "123"
     },
     "metadata": {},
     "execution_count": 84
    }
   ],
   "source": [
    "def gen():\n",
    "    yield 123\n",
    "# gen()\n",
    "next(gen())"
   ]
  },
  {
   "cell_type": "code",
   "execution_count": 121,
   "metadata": {
    "tags": []
   },
   "outputs": [
    {
     "output_type": "stream",
     "name": "stdout",
     "text": "Help on class Counter in module collections:\n\nclass Counter(builtins.dict)\n |  Counter(*args, **kwds)\n |  \n |  Dict subclass for counting hashable items.  Sometimes called a bag\n |  or multiset.  Elements are stored as dictionary keys and their counts\n |  are stored as dictionary values.\n |  \n |  >>> c = Counter('abcdeabcdabcaba')  # count elements from a string\n |  \n |  >>> c.most_common(3)                # three most common elements\n |  [('a', 5), ('b', 4), ('c', 3)]\n |  >>> sorted(c)                       # list all unique elements\n |  ['a', 'b', 'c', 'd', 'e']\n |  >>> ''.join(sorted(c.elements()))   # list elements with repetitions\n |  'aaaaabbbbcccdde'\n |  >>> sum(c.values())                 # total of all counts\n |  15\n |  \n |  >>> c['a']                          # count of letter 'a'\n |  5\n |  >>> for elem in 'shazam':           # update counts from an iterable\n |  ...     c[elem] += 1                # by adding 1 to each element's count\n |  >>> c['a']                          # now there are seven 'a'\n |  7\n |  >>> del c['b']                      # remove all 'b'\n |  >>> c['b']                          # now there are zero 'b'\n |  0\n |  \n |  >>> d = Counter('simsalabim')       # make another counter\n |  >>> c.update(d)                     # add in the second counter\n |  >>> c['a']                          # now there are nine 'a'\n |  9\n |  \n |  >>> c.clear()                       # empty the counter\n |  >>> c\n |  Counter()\n |  \n |  Note:  If a count is set to zero or reduced to zero, it will remain\n |  in the counter until the entry is deleted or the counter is cleared:\n |  \n |  >>> c = Counter('aaabbc')\n |  >>> c['b'] -= 2                     # reduce the count of 'b' by two\n |  >>> c.most_common()                 # 'b' is still in, but its count is zero\n |  [('a', 3), ('c', 1), ('b', 0)]\n |  \n |  Method resolution order:\n |      Counter\n |      builtins.dict\n |      builtins.object\n |  \n |  Methods defined here:\n |  \n |  __add__(self, other)\n |      Add counts from two counters.\n |      \n |      >>> Counter('abbb') + Counter('bcc')\n |      Counter({'b': 4, 'c': 2, 'a': 1})\n |  \n |  __and__(self, other)\n |      Intersection is the minimum of corresponding counts.\n |      \n |      >>> Counter('abbb') & Counter('bcc')\n |      Counter({'b': 1})\n |  \n |  __delitem__(self, elem)\n |      Like dict.__delitem__() but does not raise KeyError for missing values.\n |  \n |  __iadd__(self, other)\n |      Inplace add from another counter, keeping only positive counts.\n |      \n |      >>> c = Counter('abbb')\n |      >>> c += Counter('bcc')\n |      >>> c\n |      Counter({'b': 4, 'c': 2, 'a': 1})\n |  \n |  __iand__(self, other)\n |      Inplace intersection is the minimum of corresponding counts.\n |      \n |      >>> c = Counter('abbb')\n |      >>> c &= Counter('bcc')\n |      >>> c\n |      Counter({'b': 1})\n |  \n |  __init__(*args, **kwds)\n |      Create a new, empty Counter object.  And if given, count elements\n |      from an input iterable.  Or, initialize the count from another mapping\n |      of elements to their counts.\n |      \n |      >>> c = Counter()                           # a new, empty counter\n |      >>> c = Counter('gallahad')                 # a new counter from an iterable\n |      >>> c = Counter({'a': 4, 'b': 2})           # a new counter from a mapping\n |      >>> c = Counter(a=4, b=2)                   # a new counter from keyword args\n |  \n |  __ior__(self, other)\n |      Inplace union is the maximum of value from either counter.\n |      \n |      >>> c = Counter('abbb')\n |      >>> c |= Counter('bcc')\n |      >>> c\n |      Counter({'b': 3, 'c': 2, 'a': 1})\n |  \n |  __isub__(self, other)\n |      Inplace subtract counter, but keep only results with positive counts.\n |      \n |      >>> c = Counter('abbbc')\n |      >>> c -= Counter('bccd')\n |      >>> c\n |      Counter({'b': 2, 'a': 1})\n |  \n |  __missing__(self, key)\n |      The count of elements not in the Counter is zero.\n |  \n |  __neg__(self)\n |      Subtracts from an empty counter.  Strips positive and zero counts,\n |      and flips the sign on negative counts.\n |  \n |  __or__(self, other)\n |      Union is the maximum of value in either of the input counters.\n |      \n |      >>> Counter('abbb') | Counter('bcc')\n |      Counter({'b': 3, 'c': 2, 'a': 1})\n |  \n |  __pos__(self)\n |      Adds an empty counter, effectively stripping negative and zero counts\n |  \n |  __reduce__(self)\n |      Helper for pickle.\n |  \n |  __repr__(self)\n |      Return repr(self).\n |  \n |  __sub__(self, other)\n |      Subtract count, but keep only results with positive counts.\n |      \n |      >>> Counter('abbbc') - Counter('bccd')\n |      Counter({'b': 2, 'a': 1})\n |  \n |  copy(self)\n |      Return a shallow copy.\n |  \n |  elements(self)\n |      Iterator over elements repeating each as many times as its count.\n |      \n |      >>> c = Counter('ABCABC')\n |      >>> sorted(c.elements())\n |      ['A', 'A', 'B', 'B', 'C', 'C']\n |      \n |      # Knuth's example for prime factors of 1836:  2**2 * 3**3 * 17**1\n |      >>> prime_factors = Counter({2: 2, 3: 3, 17: 1})\n |      >>> product = 1\n |      >>> for factor in prime_factors.elements():     # loop over factors\n |      ...     product *= factor                       # and multiply them\n |      >>> product\n |      1836\n |      \n |      Note, if an element's count has been set to zero or is a negative\n |      number, elements() will ignore it.\n |  \n |  most_common(self, n=None)\n |      List the n most common elements and their counts from the most\n |      common to the least.  If n is None, then list all element counts.\n |      \n |      >>> Counter('abcdeabcdabcaba').most_common(3)\n |      [('a', 5), ('b', 4), ('c', 3)]\n |  \n |  subtract(*args, **kwds)\n |      Like dict.update() but subtracts counts instead of replacing them.\n |      Counts can be reduced below zero.  Both the inputs and outputs are\n |      allowed to contain zero and negative counts.\n |      \n |      Source can be an iterable, a dictionary, or another Counter instance.\n |      \n |      >>> c = Counter('which')\n |      >>> c.subtract('witch')             # subtract elements from another iterable\n |      >>> c.subtract(Counter('watch'))    # subtract elements from another counter\n |      >>> c['h']                          # 2 in which, minus 1 in witch, minus 1 in watch\n |      0\n |      >>> c['w']                          # 1 in which, minus 1 in witch, minus 1 in watch\n |      -1\n |  \n |  update(*args, **kwds)\n |      Like dict.update() but add counts instead of replacing them.\n |      \n |      Source can be an iterable, a dictionary, or another Counter instance.\n |      \n |      >>> c = Counter('which')\n |      >>> c.update('witch')           # add elements from another iterable\n |      >>> d = Counter('watch')\n |      >>> c.update(d)                 # add elements from another counter\n |      >>> c['h']                      # four 'h' in which, witch, and watch\n |      4\n |  \n |  ----------------------------------------------------------------------\n |  Class methods defined here:\n |  \n |  fromkeys(iterable, v=None) from builtins.type\n |      Create a new dictionary with keys from iterable and values set to value.\n |  \n |  ----------------------------------------------------------------------\n |  Data descriptors defined here:\n |  \n |  __dict__\n |      dictionary for instance variables (if defined)\n |  \n |  __weakref__\n |      list of weak references to the object (if defined)\n |  \n |  ----------------------------------------------------------------------\n |  Methods inherited from builtins.dict:\n |  \n |  __contains__(self, key, /)\n |      True if the dictionary has the specified key, else False.\n |  \n |  __eq__(self, value, /)\n |      Return self==value.\n |  \n |  __ge__(self, value, /)\n |      Return self>=value.\n |  \n |  __getattribute__(self, name, /)\n |      Return getattr(self, name).\n |  \n |  __getitem__(...)\n |      x.__getitem__(y) <==> x[y]\n |  \n |  __gt__(self, value, /)\n |      Return self>value.\n |  \n |  __iter__(self, /)\n |      Implement iter(self).\n |  \n |  __le__(self, value, /)\n |      Return self<=value.\n |  \n |  __len__(self, /)\n |      Return len(self).\n |  \n |  __lt__(self, value, /)\n |      Return self<value.\n |  \n |  __ne__(self, value, /)\n |      Return self!=value.\n |  \n |  __setitem__(self, key, value, /)\n |      Set self[key] to value.\n |  \n |  __sizeof__(...)\n |      D.__sizeof__() -> size of D in memory, in bytes\n |  \n |  clear(...)\n |      D.clear() -> None.  Remove all items from D.\n |  \n |  get(self, key, default=None, /)\n |      Return the value for key if key is in the dictionary, else default.\n |  \n |  items(...)\n |      D.items() -> a set-like object providing a view on D's items\n |  \n |  keys(...)\n |      D.keys() -> a set-like object providing a view on D's keys\n |  \n |  pop(...)\n |      D.pop(k[,d]) -> v, remove specified key and return the corresponding value.\n |      If key is not found, d is returned if given, otherwise KeyError is raised\n |  \n |  popitem(...)\n |      D.popitem() -> (k, v), remove and return some (key, value) pair as a\n |      2-tuple; but raise KeyError if D is empty.\n |  \n |  setdefault(self, key, default=None, /)\n |      Insert key with a value of default if key is not in the dictionary.\n |      \n |      Return the value for key if key is in the dictionary, else default.\n |  \n |  values(...)\n |      D.values() -> an object providing a view on D's values\n |  \n |  ----------------------------------------------------------------------\n |  Static methods inherited from builtins.dict:\n |  \n |  __new__(*args, **kwargs) from builtins.type\n |      Create and return a new object.  See help(type) for accurate signature.\n |  \n |  ----------------------------------------------------------------------\n |  Data and other attributes inherited from builtins.dict:\n |  \n |  __hash__ = None\n\n"
    }
   ],
   "source": [
    "from collections import Counter\n",
    "molly = Counter()\n",
    "help(Counter)"
   ]
  },
  {
   "cell_type": "code",
   "execution_count": 122,
   "metadata": {},
   "outputs": [
    {
     "output_type": "error",
     "ename": "SyntaxError",
     "evalue": "invalid syntax (<ipython-input-122-78de0c7938f1>, line 5)",
     "traceback": [
      "\u001b[0;36m  File \u001b[0;32m\"<ipython-input-122-78de0c7938f1>\"\u001b[0;36m, line \u001b[0;32m5\u001b[0m\n\u001b[0;31m    phrase_dict[]\u001b[0m\n\u001b[0m                ^\u001b[0m\n\u001b[0;31mSyntaxError\u001b[0m\u001b[0;31m:\u001b[0m invalid syntax\n"
     ]
    }
   ],
   "source": [
    "phrase_dict = {}\n",
    "text_list = re.findall(r'\\S+\\s+|\\S+', SamIAm)\n",
    "for p in range(len(text_list) - 2):\n",
    "    phrase = text_list[p] + text_list[p+1]\n",
    "    phrase_dict[phrase] = Counter()\n"
   ]
  },
  {
   "cell_type": "code",
   "execution_count": null,
   "metadata": {},
   "outputs": [],
   "source": []
  }
 ]
}