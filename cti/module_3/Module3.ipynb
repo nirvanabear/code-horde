{
 "cells": [
  {
   "cell_type": "code",
   "execution_count": 1,
   "metadata": {},
   "outputs": [
    {
     "output_type": "execute_result",
     "data": {
      "text/plain": "[-1, 1, 3, 4]"
     },
     "metadata": {},
     "execution_count": 1
    }
   ],
   "source": [
    "numbers = [3,4,-1,1]\n",
    "numbers.sort()\n",
    "numbers"
   ]
  },
  {
   "cell_type": "code",
   "execution_count": 2,
   "metadata": {},
   "outputs": [
    {
     "output_type": "error",
     "ename": "SyntaxError",
     "evalue": "'return' outside function (<ipython-input-2-13853c274458>, line 10)",
     "traceback": [
      "\u001b[0;36m  File \u001b[0;32m\"<ipython-input-2-13853c274458>\"\u001b[0;36m, line \u001b[0;32m10\u001b[0m\n\u001b[0;31m    return counterd\u001b[0m\n\u001b[0m    ^\u001b[0m\n\u001b[0;31mSyntaxError\u001b[0m\u001b[0;31m:\u001b[0m 'return' outside function\n"
     ]
    }
   ],
   "source": [
    "numbers = [3,4,-1,1]\n",
    "numbers.sort()\n",
    "counter = 1\n",
    "# match = True\n",
    "# while match:\n",
    "for each in numbers:\n",
    "    if each >= 1 and each == counter:\n",
    "        counter += 1\n",
    "    elif each >= 1:\n",
    "        return counterd\n",
    "\n",
    "\n",
    "# for each in numbers:\n",
    "#     if each >= 1:\n"
   ]
  },
  {
   "cell_type": "code",
   "execution_count": 3,
   "metadata": {},
   "outputs": [
    {
     "output_type": "stream",
     "name": "stdout",
     "text": "3\nHi George!\n"
    }
   ],
   "source": [
    "numbers = [1,2,0]\n",
    "match = True\n",
    "counter = 1\n",
    "# for each in numbers:\n",
    "while match:\n",
    "    match = False\n",
    "    for each in numbers:\n",
    "        if counter == each:\n",
    "            match = True\n",
    "            numbers.remove(each)\n",
    "            counter += 1\n",
    "print(counter)\n",
    "\n",
    "print(\"Hi George!\")\n"
   ]
  },
  {
   "cell_type": "code",
   "execution_count": 4,
   "metadata": {},
   "outputs": [
    {
     "output_type": "stream",
     "name": "stdout",
     "text": "[5, 6, 7, 1, 2, 3, 4]\n"
    }
   ],
   "source": [
    "def rotate_array(input_array, k):\n",
    "    for i in range(len(input_array) - k):\n",
    "        input_array.append(input_array.pop(0))\n",
    "\n",
    "\n",
    "testArray = [1,2,3,4,5,6,7]\n",
    "rotate_array(testArray, 3)\n",
    "print(testArray)  "
   ]
  },
  {
   "cell_type": "code",
   "execution_count": 2,
   "metadata": {},
   "outputs": [
    {
     "output_type": "execute_result",
     "data": {
      "text/plain": "[1]"
     },
     "metadata": {},
     "execution_count": 2
    }
   ],
   "source": [
    "lana = []\n",
    "lana.append(1)\n",
    "lana"
   ]
  },
  {
   "cell_type": "code",
   "execution_count": null,
   "metadata": {},
   "outputs": [],
   "source": []
  }
 ],
 "metadata": {
  "language_info": {
   "codemirror_mode": {
    "name": "ipython",
    "version": 3
   },
   "file_extension": ".py",
   "mimetype": "text/x-python",
   "name": "python",
   "nbconvert_exporter": "python",
   "pygments_lexer": "ipython3",
   "version": "3.7.6-final"
  },
  "orig_nbformat": 2,
  "kernelspec": {
   "name": "python37664bit8a43dbdd40654b49a703c48a269fb567",
   "display_name": "Python 3.7.6 64-bit"
  }
 },
 "nbformat": 4,
 "nbformat_minor": 2
}