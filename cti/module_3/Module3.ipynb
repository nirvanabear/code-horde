{
 "cells": [
  {
   "cell_type": "code",
   "execution_count": 1,
   "metadata": {},
   "outputs": [
    {
     "data": {
      "text/plain": [
       "[-1, 1, 3, 4]"
      ]
     },
     "execution_count": 1,
     "metadata": {},
     "output_type": "execute_result"
    }
   ],
   "source": [
    "numbers = [3,4,-1,1]\n",
    "numbers.sort()\n",
    "numbers"
   ]
  },
  {
   "cell_type": "markdown",
   "metadata": {},
   "source": []
  },
  {
   "cell_type": "code",
   "execution_count": 2,
   "metadata": {},
   "outputs": [
    {
     "ename": "SyntaxError",
     "evalue": "'return' outside function (<ipython-input-2-13853c274458>, line 10)",
     "output_type": "error",
     "traceback": [
      "\u001b[0;36m  File \u001b[0;32m\"<ipython-input-2-13853c274458>\"\u001b[0;36m, line \u001b[0;32m10\u001b[0m\n\u001b[0;31m    return counterd\u001b[0m\n\u001b[0m    ^\u001b[0m\n\u001b[0;31mSyntaxError\u001b[0m\u001b[0;31m:\u001b[0m 'return' outside function\n"
     ]
    }
   ],
   "source": [
    "numbers = [3,4,-1,1]\n",
    "numbers.sort()\n",
    "counter = 1\n",
    "# match = True\n",
    "# while match:\n",
    "for each in numbers:\n",
    "    if each >= 1 and each == counter:\n",
    "        counter += 1\n",
    "    elif each >= 1:\n",
    "        return counterd\n",
    "\n",
    "\n",
    "# for each in numbers:\n",
    "#     if each >= 1:\n"
   ]
  },
  {
   "cell_type": "code",
   "execution_count": 3,
   "metadata": {},
   "outputs": [
    {
     "name": "stdout",
     "output_type": "stream",
     "text": [
      "3\n",
      "Hi George!\n"
     ]
    }
   ],
   "source": [
    "numbers = [1,2,0]\n",
    "match = True\n",
    "counter = 1\n",
    "# for each in numbers:\n",
    "while match:\n",
    "    match = False\n",
    "    for each in numbers:\n",
    "        if counter == each:\n",
    "            match = True\n",
    "            numbers.remove(each)\n",
    "            counter += 1\n",
    "print(counter)\n",
    "\n",
    "print(\"Hi George!\")\n"
   ]
  },
  {
   "cell_type": "code",
   "execution_count": 4,
   "metadata": {},
   "outputs": [
    {
     "name": "stdout",
     "output_type": "stream",
     "text": [
      "[5, 6, 7, 1, 2, 3, 4]\n"
     ]
    }
   ],
   "source": [
    "def rotate_array(input_array, k):\n",
    "    for i in range(len(input_array) - k):\n",
    "        input_array.append(input_array.pop(0))\n",
    "\n",
    "\n",
    "testArray = [1,2,3,4,5,6,7]\n",
    "rotate_array(testArray, 3)\n",
    "print(testArray)  "
   ]
  },
  {
   "cell_type": "code",
   "execution_count": 2,
   "metadata": {},
   "outputs": [
    {
     "data": {
      "text/plain": [
       "[1]"
      ]
     },
     "execution_count": 2,
     "metadata": {},
     "output_type": "execute_result"
    }
   ],
   "source": [
    "lana = []\n",
    "lana.append(1)\n",
    "lana"
   ]
  },
  {
   "cell_type": "code",
   "execution_count": 1,
   "metadata": {},
   "outputs": [
    {
     "data": {
      "text/plain": [
       "[7, 1, 2, 3, 4, 5, 6]"
      ]
     },
     "execution_count": 1,
     "metadata": {},
     "output_type": "execute_result"
    }
   ],
   "source": [
    "array = [1,2,3,4,5,6,7]        \n",
    "placeholder = array.pop()\n",
    "array = [placeholder] + array\n",
    "array"
   ]
  },
  {
   "cell_type": "code",
   "execution_count": 2,
   "metadata": {},
   "outputs": [
    {
     "data": {
      "text/plain": [
       "0"
      ]
     },
     "execution_count": 2,
     "metadata": {},
     "output_type": "execute_result"
    }
   ],
   "source": [
    "sabrina = 0\n",
    "for each in range(-3):\n",
    "    sabrina += 1\n",
    "sabrina"
   ]
  },
  {
   "cell_type": "code",
   "execution_count": 3,
   "metadata": {},
   "outputs": [
    {
     "data": {
      "text/plain": [
       "3"
      ]
     },
     "execution_count": 3,
     "metadata": {},
     "output_type": "execute_result"
    }
   ],
   "source": [
    " abs(-3)"
   ]
  },
  {
   "cell_type": "code",
   "execution_count": 2,
   "metadata": {},
   "outputs": [
    {
     "name": "stdout",
     "output_type": "stream",
     "text": [
      "0\n",
      "1\n",
      "2\n",
      "3\n",
      "4\n"
     ]
    }
   ],
   "source": [
    "laurene = [1,2,3,2,1]\n",
    "for i in range(len(laurene)):\n",
    "    print(i)"
   ]
  },
  {
   "cell_type": "code",
   "execution_count": 7,
   "metadata": {},
   "outputs": [
    {
     "name": "stdout",
     "output_type": "stream",
     "text": [
      "***********\n",
      "i: 0\n",
      "j: 0\n",
      "j: 1\n",
      "j: 2\n",
      "j: 3\n",
      "j: 4\n",
      "j: 5\n",
      "j: 6\n",
      "j: 7\n",
      "j: 8\n",
      "***********\n",
      "i: 1\n",
      "j: 0\n",
      "j: 1\n",
      "j: 2\n",
      "j: 3\n",
      "j: 4\n",
      "j: 5\n",
      "j: 6\n",
      "j: 7\n",
      "j: 8\n",
      "***********\n",
      "i: 2\n",
      "j: 0\n",
      "j: 1\n",
      "j: 2\n",
      "j: 3\n",
      "j: 4\n",
      "j: 5\n",
      "j: 6\n",
      "j: 7\n",
      "j: 8\n",
      "***********\n",
      "i: 3\n",
      "j: 0\n",
      "j: 1\n",
      "j: 2\n",
      "j: 3\n",
      "j: 4\n",
      "j: 5\n",
      "j: 6\n",
      "j: 7\n",
      "j: 8\n",
      "***********\n",
      "i: 4\n",
      "j: 0\n",
      "j: 1\n",
      "j: 2\n",
      "j: 3\n",
      "j: 4\n",
      "j: 5\n",
      "j: 6\n",
      "j: 7\n",
      "j: 8\n",
      "***********\n",
      "i: 5\n",
      "j: 0\n",
      "j: 1\n",
      "j: 2\n",
      "j: 3\n",
      "j: 4\n",
      "j: 5\n",
      "j: 6\n",
      "j: 7\n",
      "j: 8\n",
      "***********\n",
      "i: 6\n",
      "j: 0\n",
      "j: 1\n",
      "j: 2\n",
      "j: 3\n",
      "j: 4\n",
      "j: 5\n",
      "j: 6\n",
      "j: 7\n",
      "j: 8\n",
      "***********\n",
      "i: 7\n",
      "j: 0\n",
      "j: 1\n",
      "j: 2\n",
      "j: 3\n",
      "j: 4\n",
      "j: 5\n",
      "j: 6\n",
      "j: 7\n",
      "j: 8\n",
      "***********\n",
      "i: 8\n",
      "j: 0\n",
      "j: 1\n",
      "j: 2\n",
      "j: 3\n",
      "j: 4\n",
      "j: 5\n",
      "j: 6\n",
      "j: 7\n",
      "j: 8\n"
     ]
    }
   ],
   "source": [
    "for rowNum in range(3):\n",
    "    # print(f\"rowNum: {rowNum}\")\n",
    "    for i in range(rowNum*3, 3 + rowNum*3, 1):\n",
    "        print(\"***********\")\n",
    "        print(f\"i: {i}\")\n",
    "        for colNum in range(3):\n",
    "            check = {}\n",
    "            # print(f\"colNum: {colNum}\")\n",
    "            for j in range(colNum*3, 3 + colNum*3, 1):\n",
    "                print(f\"j: {j}\")"
   ]
  },
  {
   "cell_type": "code",
   "execution_count": 17,
   "metadata": {},
   "outputs": [
    {
     "name": "stdout",
     "output_type": "stream",
     "text": [
      "New dict\n",
      "******\n",
      "v: 0\n",
      "------\n",
      "w: 0\n",
      "w: 1\n",
      "w: 2\n",
      "******\n",
      "v: 1\n",
      "------\n",
      "w: 0\n",
      "w: 1\n",
      "w: 2\n",
      "******\n",
      "v: 2\n",
      "------\n",
      "w: 0\n",
      "w: 1\n",
      "w: 2\n",
      "New dict\n",
      "******\n",
      "v: 0\n",
      "------\n",
      "w: 3\n",
      "w: 4\n",
      "w: 5\n",
      "******\n",
      "v: 1\n",
      "------\n",
      "w: 3\n",
      "w: 4\n",
      "w: 5\n",
      "******\n",
      "v: 2\n",
      "------\n",
      "w: 3\n",
      "w: 4\n",
      "w: 5\n",
      "New dict\n",
      "******\n",
      "v: 0\n",
      "------\n",
      "w: 6\n",
      "w: 7\n",
      "w: 8\n",
      "******\n",
      "v: 1\n",
      "------\n",
      "w: 6\n",
      "w: 7\n",
      "w: 8\n",
      "******\n",
      "v: 2\n",
      "------\n",
      "w: 6\n",
      "w: 7\n",
      "w: 8\n",
      "New dict\n",
      "******\n",
      "v: 3\n",
      "------\n",
      "w: 0\n",
      "w: 1\n",
      "w: 2\n",
      "******\n",
      "v: 4\n",
      "------\n",
      "w: 0\n",
      "w: 1\n",
      "w: 2\n",
      "******\n",
      "v: 5\n",
      "------\n",
      "w: 0\n",
      "w: 1\n",
      "w: 2\n",
      "New dict\n",
      "******\n",
      "v: 3\n",
      "------\n",
      "w: 3\n",
      "w: 4\n",
      "w: 5\n",
      "******\n",
      "v: 4\n",
      "------\n",
      "w: 3\n",
      "w: 4\n",
      "w: 5\n",
      "******\n",
      "v: 5\n",
      "------\n",
      "w: 3\n",
      "w: 4\n",
      "w: 5\n",
      "New dict\n",
      "******\n",
      "v: 3\n",
      "------\n",
      "w: 6\n",
      "w: 7\n",
      "w: 8\n",
      "******\n",
      "v: 4\n",
      "------\n",
      "w: 6\n",
      "w: 7\n",
      "w: 8\n",
      "******\n",
      "v: 5\n",
      "------\n",
      "w: 6\n",
      "w: 7\n",
      "w: 8\n",
      "New dict\n",
      "******\n",
      "v: 6\n",
      "------\n",
      "w: 0\n",
      "w: 1\n",
      "w: 2\n",
      "******\n",
      "v: 7\n",
      "------\n",
      "w: 0\n",
      "w: 1\n",
      "w: 2\n",
      "******\n",
      "v: 8\n",
      "------\n",
      "w: 0\n",
      "w: 1\n",
      "w: 2\n",
      "New dict\n",
      "******\n",
      "v: 6\n",
      "------\n",
      "w: 3\n",
      "w: 4\n",
      "w: 5\n",
      "******\n",
      "v: 7\n",
      "------\n",
      "w: 3\n",
      "w: 4\n",
      "w: 5\n",
      "******\n",
      "v: 8\n",
      "------\n",
      "w: 3\n",
      "w: 4\n",
      "w: 5\n",
      "New dict\n",
      "******\n",
      "v: 6\n",
      "------\n",
      "w: 6\n",
      "w: 7\n",
      "w: 8\n",
      "******\n",
      "v: 7\n",
      "------\n",
      "w: 6\n",
      "w: 7\n",
      "w: 8\n",
      "******\n",
      "v: 8\n",
      "------\n",
      "w: 6\n",
      "w: 7\n",
      "w: 8\n"
     ]
    }
   ],
   "source": [
    "for t in range(3):\n",
    "    for u in range(3):\n",
    "        print(\"New dict\")\n",
    "        for v in range(t*3, (t*3)+3, 1):\n",
    "            print(\"******\")\n",
    "            print(f\"v: {v}\")\n",
    "            print(\"------\")\n",
    "            for w in range(u*3, (u*3)+3, 1):\n",
    "                print(f\"w: {w}\")"
   ]
  },
  {
   "cell_type": "code",
   "execution_count": null,
   "metadata": {},
   "outputs": [],
   "source": []
  }
 ],
 "metadata": {
  "kernelspec": {
   "display_name": "Python 3.10.4 64-bit",
   "language": "python",
   "name": "python3"
  },
  "language_info": {
   "codemirror_mode": {
    "name": "ipython",
    "version": 3
   },
   "file_extension": ".py",
   "mimetype": "text/x-python",
   "name": "python",
   "nbconvert_exporter": "python",
   "pygments_lexer": "ipython3",
   "version": "3.10.4"
  },
  "orig_nbformat": 2,
  "vscode": {
   "interpreter": {
    "hash": "aee8b7b246df8f9039afb4144a1f6fd8d2ca17a180786b69acc140d282b71a49"
   }
  }
 },
 "nbformat": 4,
 "nbformat_minor": 2
}
